{
 "metadata": {
  "name": ""
 },
 "nbformat": 3,
 "nbformat_minor": 0,
 "worksheets": [
  {
   "cells": [
    {
     "cell_type": "code",
     "collapsed": false,
     "input": [
      "%pylab inline\n",
      "%config InlineBackend.figure_format = 'retina'"
     ],
     "language": "python",
     "metadata": {},
     "outputs": [
      {
       "output_type": "stream",
       "stream": "stdout",
       "text": [
        "Populating the interactive namespace from numpy and matplotlib\n"
       ]
      }
     ],
     "prompt_number": 5
    },
    {
     "cell_type": "code",
     "collapsed": false,
     "input": [
      "import numpy as np\n",
      "import pandas as pd"
     ],
     "language": "python",
     "metadata": {},
     "outputs": [],
     "prompt_number": 6
    },
    {
     "cell_type": "code",
     "collapsed": false,
     "input": [
      "f = pd.read_csv('lanf_stats.csv', index_col=0)"
     ],
     "language": "python",
     "metadata": {},
     "outputs": [],
     "prompt_number": 7
    },
    {
     "cell_type": "code",
     "collapsed": false,
     "input": [
      "f"
     ],
     "language": "python",
     "metadata": {},
     "outputs": [
      {
       "html": [
        "<div style=\"max-height:1000px;max-width:1500px;overflow:auto;\">\n",
        "<table border=\"1\" class=\"dataframe\">\n",
        "  <thead>\n",
        "    <tr style=\"text-align: right;\">\n",
        "      <th></th>\n",
        "      <th>L_km</th>\n",
        "      <th>z_km</th>\n",
        "      <th>slip_rate_mm_a</th>\n",
        "      <th>sr_err_mm_a</th>\n",
        "      <th>dip_deg</th>\n",
        "      <th>dip_err_deg</th>\n",
        "    </tr>\n",
        "    <tr>\n",
        "      <th>fault</th>\n",
        "      <th></th>\n",
        "      <th></th>\n",
        "      <th></th>\n",
        "      <th></th>\n",
        "      <th></th>\n",
        "      <th></th>\n",
        "    </tr>\n",
        "  </thead>\n",
        "  <tbody>\n",
        "    <tr>\n",
        "      <th>kongur_shan</th>\n",
        "      <td> 147</td>\n",
        "      <td> 10</td>\n",
        "      <td> 6.5</td>\n",
        "      <td> 2.0</td>\n",
        "      <td> 30</td>\n",
        "      <td> 10.0</td>\n",
        "    </tr>\n",
        "    <tr>\n",
        "      <th>leo_pargil</th>\n",
        "      <td>  56</td>\n",
        "      <td> 10</td>\n",
        "      <td> 1.0</td>\n",
        "      <td> 1.0</td>\n",
        "      <td> 25</td>\n",
        "      <td> 10.0</td>\n",
        "    </tr>\n",
        "    <tr>\n",
        "      <th>gurla_mandhata</th>\n",
        "      <td>  44</td>\n",
        "      <td> 10</td>\n",
        "      <td> 4.5</td>\n",
        "      <td> 2.0</td>\n",
        "      <td> 33</td>\n",
        "      <td> 10.0</td>\n",
        "    </tr>\n",
        "    <tr>\n",
        "      <th>s_lunggar</th>\n",
        "      <td>  20</td>\n",
        "      <td> 10</td>\n",
        "      <td> 2.5</td>\n",
        "      <td> 0.5</td>\n",
        "      <td> 22</td>\n",
        "      <td>  5.0</td>\n",
        "    </tr>\n",
        "    <tr>\n",
        "      <th>n_lunggar</th>\n",
        "      <td>  32</td>\n",
        "      <td> 10</td>\n",
        "      <td> 2.0</td>\n",
        "      <td> 1.0</td>\n",
        "      <td> 25</td>\n",
        "      <td>  5.0</td>\n",
        "    </tr>\n",
        "    <tr>\n",
        "      <th>pqx_qingdu</th>\n",
        "      <td>  15</td>\n",
        "      <td> 10</td>\n",
        "      <td> 1.0</td>\n",
        "      <td> 0.5</td>\n",
        "      <td> 30</td>\n",
        "      <td>  5.0</td>\n",
        "    </tr>\n",
        "    <tr>\n",
        "      <th>pqx_n</th>\n",
        "      <td>  11</td>\n",
        "      <td> 10</td>\n",
        "      <td> 1.0</td>\n",
        "      <td> 0.5</td>\n",
        "      <td> 25</td>\n",
        "      <td>  7.5</td>\n",
        "    </tr>\n",
        "    <tr>\n",
        "      <th>nqtl</th>\n",
        "      <td> 115</td>\n",
        "      <td> 10</td>\n",
        "      <td> 2.5</td>\n",
        "      <td> 1.5</td>\n",
        "      <td> 30</td>\n",
        "      <td>  8.0</td>\n",
        "    </tr>\n",
        "    <tr>\n",
        "      <th>alto_tiberina</th>\n",
        "      <td>  60</td>\n",
        "      <td>  4</td>\n",
        "      <td> 2.4</td>\n",
        "      <td> 0.3</td>\n",
        "      <td> 25</td>\n",
        "      <td>  5.0</td>\n",
        "    </tr>\n",
        "  </tbody>\n",
        "</table>\n",
        "</div>"
       ],
       "metadata": {},
       "output_type": "pyout",
       "prompt_number": 8,
       "text": [
        "                L_km  z_km  slip_rate_mm_a  sr_err_mm_a  dip_deg  dip_err_deg\n",
        "fault                                                                        \n",
        "kongur_shan      147    10             6.5          2.0       30         10.0\n",
        "leo_pargil        56    10             1.0          1.0       25         10.0\n",
        "gurla_mandhata    44    10             4.5          2.0       33         10.0\n",
        "s_lunggar         20    10             2.5          0.5       22          5.0\n",
        "n_lunggar         32    10             2.0          1.0       25          5.0\n",
        "pqx_qingdu        15    10             1.0          0.5       30          5.0\n",
        "pqx_n             11    10             1.0          0.5       25          7.5\n",
        "nqtl             115    10             2.5          1.5       30          8.0\n",
        "alto_tiberina     60     4             2.4          0.3       25          5.0"
       ]
      }
     ],
     "prompt_number": 8
    },
    {
     "cell_type": "code",
     "collapsed": false,
     "input": [
      "def Mo( mu=6E9, L=None, z=None, D=None, dip=None):\n",
      "    return mu * L * z * D / np.sin(dip)\n",
      "\n",
      "def Mo_dot( mu=6E9, L=None, z=None, D_dot=None, dip=None):\n",
      "    return mu * L * z * D_dot / np.sin(dip)\n",
      "\n",
      "def moment_mag(Mo):\n",
      "    return 2/3. * np.log10(Mo) - 9.05"
     ],
     "language": "python",
     "metadata": {},
     "outputs": [],
     "prompt_number": 21
    },
    {
     "cell_type": "code",
     "collapsed": false,
     "input": [
      "slr = f.loc['s_lunggar'].copy()\n",
      "\n",
      "slr"
     ],
     "language": "python",
     "metadata": {},
     "outputs": [
      {
       "metadata": {},
       "output_type": "pyout",
       "prompt_number": 16,
       "text": [
        "L_km              20.0\n",
        "z_km              10.0\n",
        "slip_rate_mm_a     2.5\n",
        "sr_err_mm_a        0.5\n",
        "dip_deg           22.0\n",
        "dip_err_deg        5.0\n",
        "Name: s_lunggar, dtype: float64"
       ]
      }
     ],
     "prompt_number": 16
    },
    {
     "cell_type": "code",
     "collapsed": false,
     "input": [
      "slr['L_m'] = "
     ],
     "language": "python",
     "metadata": {},
     "outputs": [
      {
       "metadata": {},
       "output_type": "pyout",
       "prompt_number": 15,
       "text": [
        "20.0"
       ]
      }
     ],
     "prompt_number": 15
    },
    {
     "cell_type": "code",
     "collapsed": false,
     "input": [
      "slr_Mo_dot = Mo_dot(L = slr['L_km'] * 1000, z=slr['z_km'] * 1000, \n",
      "                    D_dot = slr['slip_rate_mm_a']/1000., dip=np.radians(slr['dip_deg']) )"
     ],
     "language": "python",
     "metadata": {},
     "outputs": [],
     "prompt_number": 18
    },
    {
     "cell_type": "code",
     "collapsed": false,
     "input": [
      "slr_Mo_dot"
     ],
     "language": "python",
     "metadata": {},
     "outputs": [
      {
       "metadata": {},
       "output_type": "pyout",
       "prompt_number": 19,
       "text": [
        "8008401487662043.0"
       ]
      }
     ],
     "prompt_number": 19
    },
    {
     "cell_type": "code",
     "collapsed": false,
     "input": [
      "moment_mag(slr_Mo_dot)"
     ],
     "language": "python",
     "metadata": {},
     "outputs": [
      {
       "metadata": {},
       "output_type": "pyout",
       "prompt_number": 22,
       "text": [
        "1.552363891757512"
       ]
      }
     ],
     "prompt_number": 22
    },
    {
     "cell_type": "code",
     "collapsed": false,
     "input": [
      "moment_mag(slr_Mo_dot * 100000)"
     ],
     "language": "python",
     "metadata": {},
     "outputs": [
      {
       "metadata": {},
       "output_type": "pyout",
       "prompt_number": 27,
       "text": [
        "4.8856972250908441"
       ]
      }
     ],
     "prompt_number": 27
    },
    {
     "cell_type": "code",
     "collapsed": false,
     "input": [],
     "language": "python",
     "metadata": {},
     "outputs": []
    }
   ],
   "metadata": {}
  }
 ]
}