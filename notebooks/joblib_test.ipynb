{
 "metadata": {
  "name": ""
 },
 "nbformat": 3,
 "nbformat_minor": 0,
 "worksheets": [
  {
   "cells": [
    {
     "cell_type": "code",
     "collapsed": false,
     "input": [
      "import sys\n",
      "sys.path.append('../eq_stats')\n",
      "\n",
      "import numpy as np\n",
      "import pandas as pd\n",
      "import eq_stats as eqs\n",
      "\n",
      "# problem setup\n",
      "\n",
      "# read in fault data table\n",
      "f = pd.read_csv('../data/lanf_stats.csv', index_col=0) \n",
      "\n",
      "# define some constants and parameters\n",
      "n_eq_samp = 2.5e4 # number of earthquakes in time series\n",
      "time_window = np.hstack( (1, np.arange(5, 105, step=5) ) ) # observation times\n",
      "mc_iters = 50\n",
      "mc_index = np.arange(mc_iters, dtype='int')\n",
      "mc_cols = ['dip', 'Ddot'] + [t for t in time_window]\n",
      "mag_min = 5\n",
      "\n",
      "# define frequency-magnitude distribution\n",
      "M_vec = np.linspace(5, 7.64, num=1000)\n",
      "FM_vec = eqs.F(M_vec)\n",
      "\n",
      "\n",
      "# First run on South Lunggar Detachment\n",
      "slr = f.loc['s_lunggar'] # select S. Lunggar fault data from data table\n",
      "\n",
      "#DF for SLR MC, >= M5 eqs\n",
      "slr_5 = pd.DataFrame(index=mc_index, columns=mc_cols, dtype='float') \n",
      "\n",
      "slr_5.dip, slr_dip_frac = eqs.dip_rand_samp( slr['dip_deg'], \n",
      "                                             slr['dip_err_deg'], mc_iters)\n",
      "\n",
      "slr_5.Ddot = eqs.Ddot_rand_samp( slr['slip_rate_mm_a'], \n",
      "                                      slr['sr_err_mm_a'], mc_iters)\n",
      "\n"
     ],
     "language": "python",
     "metadata": {},
     "outputs": [],
     "prompt_number": 1
    },
    {
     "cell_type": "code",
     "collapsed": false,
     "input": [
      "%%timeit\n",
      "# Loop through\n",
      "for ii in mc_index:\n",
      "    ss = slr_5.iloc[ii]\n",
      "    M_samp = eqs.sample_from_pdf(M_vec, FM_vec, n_eq_samp)\n",
      "    Mo_samp = eqs.calc_Mo_from_M(M_samp)\n",
      "\n",
      "    recur_int = eqs.calc_recurrence_interval(Mo=Mo_samp, dip=ss['dip'],\n",
      "                                             slip_rate=ss['Ddot'],\n",
      "                                             L=slr['L_km'], z=slr['z_km'])\n",
      "\n",
      "    cum_yrs = eqs.calc_cumulative_yrs(recur_int)\n",
      "\n",
      "    eq_series = eqs.make_eq_time_series(M_samp, cum_yrs)  # maybe store in dict\n",
      "    \n",
      "    for t in time_window:\n",
      "        ss[t] = ( eqs.get_prob_above_val_in_window(eq_series, mag_min, t) \n",
      "                * slr_dip_frac )\n",
      "\n",
      "#    print ii\n",
      "\n",
      "print 'done'"
     ],
     "language": "python",
     "metadata": {},
     "outputs": [
      {
       "output_type": "stream",
       "stream": "stdout",
       "text": [
        "done\n",
        "done"
       ]
      },
      {
       "output_type": "stream",
       "stream": "stdout",
       "text": [
        "\n",
        "done"
       ]
      },
      {
       "output_type": "stream",
       "stream": "stdout",
       "text": [
        "\n",
        "done"
       ]
      },
      {
       "output_type": "stream",
       "stream": "stdout",
       "text": [
        "\n",
        "1 loops, best of 3: 2min 30s per loop\n"
       ]
      }
     ],
     "prompt_number": 2
    },
    {
     "cell_type": "code",
     "collapsed": false,
     "input": [
      "from joblib import Parallel, delayed"
     ],
     "language": "python",
     "metadata": {},
     "outputs": [],
     "prompt_number": 3
    },
    {
     "cell_type": "code",
     "collapsed": false,
     "input": [
      "%%timeit\n",
      "for ii in mc_index:\n",
      "    ss = slr_5.iloc[ii]\n",
      "    M_samp = eqs.sample_from_pdf(M_vec, FM_vec, n_eq_samp)\n",
      "    Mo_samp = eqs.calc_Mo_from_M(M_samp)\n",
      "\n",
      "    recur_int = eqs.calc_recurrence_interval(Mo=Mo_samp, dip=ss['dip'],\n",
      "                                             slip_rate=ss['Ddot'],\n",
      "                                             L=slr['L_km'], z=slr['z_km'])\n",
      "\n",
      "    cum_yrs = eqs.calc_cumulative_yrs(recur_int)\n",
      "\n",
      "    eq_series = eqs.make_eq_time_series(M_samp, cum_yrs)  # maybe store in dict\n",
      "\n",
      "    probs = Parallel(n_jobs = -2) (delayed( eqs.get_prob_above_val_in_window)\n",
      "                                   (eq_series, mag_min, t) for t in time_window)\n",
      "    #print probs\n",
      "\n",
      "print 'done'"
     ],
     "language": "python",
     "metadata": {},
     "outputs": [
      {
       "output_type": "stream",
       "stream": "stdout",
       "text": [
        "done\n"
       ]
      },
      {
       "output_type": "stream",
       "stream": "stdout",
       "text": [
        "done\n"
       ]
      },
      {
       "output_type": "stream",
       "stream": "stdout",
       "text": [
        "done\n"
       ]
      },
      {
       "output_type": "stream",
       "stream": "stdout",
       "text": [
        "done\n",
        "1 loops, best of 3: 3min 27s per loop\n"
       ]
      }
     ],
     "prompt_number": 5
    },
    {
     "cell_type": "code",
     "collapsed": false,
     "input": [
      "def index_loop(index):\n",
      "    ss = slr_5.iloc[index]\n",
      "    M_samp = eqs.sample_from_pdf(M_vec, FM_vec, n_eq_samp)\n",
      "    Mo_samp = eqs.calc_Mo_from_M(M_samp)\n",
      "\n",
      "    recur_int = eqs.calc_recurrence_interval(Mo=Mo_samp, dip=ss['dip'],\n",
      "                                             slip_rate=ss['Ddot'],\n",
      "                                             L=slr['L_km'], z=slr['z_km'])\n",
      "\n",
      "    cum_yrs = eqs.calc_cumulative_yrs(recur_int)\n",
      "\n",
      "    eq_series = eqs.make_eq_time_series(M_samp, cum_yrs)  # maybe store in dict\n",
      "    \n",
      "    for t in time_window:\n",
      "        ss[t] = ( eqs.get_prob_above_val_in_window(eq_series, mag_min, t) \n",
      "                * slr_dip_frac )\n",
      "    return ss"
     ],
     "language": "python",
     "metadata": {},
     "outputs": [],
     "prompt_number": 6
    },
    {
     "cell_type": "code",
     "collapsed": false,
     "input": [
      "%%timeit\n",
      "\n",
      "ss = Parallel(n_jobs=-2) (delayed( index_loop)(ii) for ii in mc_index)"
     ],
     "language": "python",
     "metadata": {},
     "outputs": [
      {
       "output_type": "stream",
       "stream": "stdout",
       "text": [
        "1 loops, best of 3: 39.6 s per loop\n"
       ]
      }
     ],
     "prompt_number": 10
    },
    {
     "cell_type": "markdown",
     "metadata": {},
     "source": [
      "need to figure out how to fill df right"
     ]
    },
    {
     "cell_type": "code",
     "collapsed": false,
     "input": [
      "type(ss)"
     ],
     "language": "python",
     "metadata": {},
     "outputs": [
      {
       "metadata": {},
       "output_type": "pyout",
       "prompt_number": 12,
       "text": [
        "list"
       ]
      }
     ],
     "prompt_number": 12
    },
    {
     "cell_type": "code",
     "collapsed": false,
     "input": [
      "len(ss)"
     ],
     "language": "python",
     "metadata": {},
     "outputs": [
      {
       "metadata": {},
       "output_type": "pyout",
       "prompt_number": 13,
       "text": [
        "50"
       ]
      }
     ],
     "prompt_number": 13
    },
    {
     "cell_type": "code",
     "collapsed": false,
     "input": [
      "np.dtype(ss[0])"
     ],
     "language": "python",
     "metadata": {},
     "outputs": [
      {
       "metadata": {},
       "output_type": "pyout",
       "prompt_number": 37,
       "text": [
        "dtype('float64')"
       ]
      }
     ],
     "prompt_number": 37
    },
    {
     "cell_type": "code",
     "collapsed": false,
     "input": [
      "slr_5_filled = slr_5.copy()"
     ],
     "language": "python",
     "metadata": {},
     "outputs": [],
     "prompt_number": 31
    },
    {
     "cell_type": "code",
     "collapsed": false,
     "input": [
      "slr_5_filled"
     ],
     "language": "python",
     "metadata": {},
     "outputs": [
      {
       "html": [
        "<pre>\n",
        "&lt;class 'pandas.core.frame.DataFrame'&gt;\n",
        "Int64Index: 50 entries, 0 to 49\n",
        "Data columns (total 23 columns):\n",
        "dip     50  non-null values\n",
        "Ddot    50  non-null values\n",
        "1       50  non-null values\n",
        "5       50  non-null values\n",
        "10      50  non-null values\n",
        "15      50  non-null values\n",
        "20      50  non-null values\n",
        "25      50  non-null values\n",
        "30      50  non-null values\n",
        "35      50  non-null values\n",
        "40      50  non-null values\n",
        "45      50  non-null values\n",
        "50      50  non-null values\n",
        "55      50  non-null values\n",
        "60      50  non-null values\n",
        "65      50  non-null values\n",
        "70      50  non-null values\n",
        "75      50  non-null values\n",
        "80      50  non-null values\n",
        "85      50  non-null values\n",
        "90      50  non-null values\n",
        "95      50  non-null values\n",
        "100     50  non-null values\n",
        "dtypes: float64(23)\n",
        "</pre>"
       ],
       "metadata": {},
       "output_type": "pyout",
       "prompt_number": 33,
       "text": [
        "<class 'pandas.core.frame.DataFrame'>\n",
        "Int64Index: 50 entries, 0 to 49\n",
        "Data columns (total 23 columns):\n",
        "dip     50  non-null values\n",
        "Ddot    50  non-null values\n",
        "1       50  non-null values\n",
        "5       50  non-null values\n",
        "10      50  non-null values\n",
        "15      50  non-null values\n",
        "20      50  non-null values\n",
        "25      50  non-null values\n",
        "30      50  non-null values\n",
        "35      50  non-null values\n",
        "40      50  non-null values\n",
        "45      50  non-null values\n",
        "50      50  non-null values\n",
        "55      50  non-null values\n",
        "60      50  non-null values\n",
        "65      50  non-null values\n",
        "70      50  non-null values\n",
        "75      50  non-null values\n",
        "80      50  non-null values\n",
        "85      50  non-null values\n",
        "90      50  non-null values\n",
        "95      50  non-null values\n",
        "100     50  non-null values\n",
        "dtypes: float64(23)"
       ]
      }
     ],
     "prompt_number": 33
    },
    {
     "cell_type": "code",
     "collapsed": false,
     "input": [
      "for ii, ser in enumerate(ss):\n",
      "    slr_5_filled.iloc[ii] = ser"
     ],
     "language": "python",
     "metadata": {},
     "outputs": [],
     "prompt_number": 34
    },
    {
     "cell_type": "code",
     "collapsed": false,
     "input": [
      "slr_5_filled"
     ],
     "language": "python",
     "metadata": {},
     "outputs": [
      {
       "html": [
        "<pre>\n",
        "&lt;class 'pandas.core.frame.DataFrame'&gt;\n",
        "Int64Index: 50 entries, 0 to 49\n",
        "Data columns (total 23 columns):\n",
        "dip     50  non-null values\n",
        "Ddot    50  non-null values\n",
        "1       50  non-null values\n",
        "5       50  non-null values\n",
        "10      50  non-null values\n",
        "15      50  non-null values\n",
        "20      50  non-null values\n",
        "25      50  non-null values\n",
        "30      50  non-null values\n",
        "35      50  non-null values\n",
        "40      50  non-null values\n",
        "45      50  non-null values\n",
        "50      50  non-null values\n",
        "55      50  non-null values\n",
        "60      50  non-null values\n",
        "65      50  non-null values\n",
        "70      50  non-null values\n",
        "75      50  non-null values\n",
        "80      50  non-null values\n",
        "85      50  non-null values\n",
        "90      50  non-null values\n",
        "95      50  non-null values\n",
        "100     50  non-null values\n",
        "dtypes: float64(23)\n",
        "</pre>"
       ],
       "metadata": {},
       "output_type": "pyout",
       "prompt_number": 35,
       "text": [
        "<class 'pandas.core.frame.DataFrame'>\n",
        "Int64Index: 50 entries, 0 to 49\n",
        "Data columns (total 23 columns):\n",
        "dip     50  non-null values\n",
        "Ddot    50  non-null values\n",
        "1       50  non-null values\n",
        "5       50  non-null values\n",
        "10      50  non-null values\n",
        "15      50  non-null values\n",
        "20      50  non-null values\n",
        "25      50  non-null values\n",
        "30      50  non-null values\n",
        "35      50  non-null values\n",
        "40      50  non-null values\n",
        "45      50  non-null values\n",
        "50      50  non-null values\n",
        "55      50  non-null values\n",
        "60      50  non-null values\n",
        "65      50  non-null values\n",
        "70      50  non-null values\n",
        "75      50  non-null values\n",
        "80      50  non-null values\n",
        "85      50  non-null values\n",
        "90      50  non-null values\n",
        "95      50  non-null values\n",
        "100     50  non-null values\n",
        "dtypes: float64(23)"
       ]
      }
     ],
     "prompt_number": 35
    },
    {
     "cell_type": "code",
     "collapsed": false,
     "input": [
      "slr_5_filled = pd.concat(ss, axis=1)#, keys=[s.name for s in ss])"
     ],
     "language": "python",
     "metadata": {},
     "outputs": [],
     "prompt_number": 28
    },
    {
     "cell_type": "code",
     "collapsed": false,
     "input": [
      "slr_5_filled"
     ],
     "language": "python",
     "metadata": {},
     "outputs": [
      {
       "html": [
        "<pre>\n",
        "&lt;class 'pandas.core.frame.DataFrame'&gt;\n",
        "Index: 23 entries, dip to 100\n",
        "Data columns (total 50 columns):\n",
        "0     23  non-null values\n",
        "1     23  non-null values\n",
        "2     23  non-null values\n",
        "3     23  non-null values\n",
        "4     23  non-null values\n",
        "5     23  non-null values\n",
        "6     23  non-null values\n",
        "7     23  non-null values\n",
        "8     23  non-null values\n",
        "9     23  non-null values\n",
        "10    23  non-null values\n",
        "11    23  non-null values\n",
        "12    23  non-null values\n",
        "13    23  non-null values\n",
        "14    23  non-null values\n",
        "15    23  non-null values\n",
        "16    23  non-null values\n",
        "17    23  non-null values\n",
        "18    23  non-null values\n",
        "19    23  non-null values\n",
        "20    23  non-null values\n",
        "21    23  non-null values\n",
        "22    23  non-null values\n",
        "23    23  non-null values\n",
        "24    23  non-null values\n",
        "25    23  non-null values\n",
        "26    23  non-null values\n",
        "27    23  non-null values\n",
        "28    23  non-null values\n",
        "29    23  non-null values\n",
        "30    23  non-null values\n",
        "31    23  non-null values\n",
        "32    23  non-null values\n",
        "33    23  non-null values\n",
        "34    23  non-null values\n",
        "35    23  non-null values\n",
        "36    23  non-null values\n",
        "37    23  non-null values\n",
        "38    23  non-null values\n",
        "39    23  non-null values\n",
        "40    23  non-null values\n",
        "41    23  non-null values\n",
        "42    23  non-null values\n",
        "43    23  non-null values\n",
        "44    23  non-null values\n",
        "45    23  non-null values\n",
        "46    23  non-null values\n",
        "47    23  non-null values\n",
        "48    23  non-null values\n",
        "49    23  non-null values\n",
        "dtypes: float64(50)\n",
        "</pre>"
       ],
       "metadata": {},
       "output_type": "pyout",
       "prompt_number": 29,
       "text": [
        "<class 'pandas.core.frame.DataFrame'>\n",
        "Index: 23 entries, dip to 100\n",
        "Data columns (total 50 columns):\n",
        "0     23  non-null values\n",
        "1     23  non-null values\n",
        "2     23  non-null values\n",
        "3     23  non-null values\n",
        "4     23  non-null values\n",
        "5     23  non-null values\n",
        "6     23  non-null values\n",
        "7     23  non-null values\n",
        "8     23  non-null values\n",
        "9     23  non-null values\n",
        "10    23  non-null values\n",
        "11    23  non-null values\n",
        "12    23  non-null values\n",
        "13    23  non-null values\n",
        "14    23  non-null values\n",
        "15    23  non-null values\n",
        "16    23  non-null values\n",
        "17    23  non-null values\n",
        "18    23  non-null values\n",
        "19    23  non-null values\n",
        "20    23  non-null values\n",
        "21    23  non-null values\n",
        "22    23  non-null values\n",
        "23    23  non-null values\n",
        "24    23  non-null values\n",
        "25    23  non-null values\n",
        "26    23  non-null values\n",
        "27    23  non-null values\n",
        "28    23  non-null values\n",
        "29    23  non-null values\n",
        "30    23  non-null values\n",
        "31    23  non-null values\n",
        "32    23  non-null values\n",
        "33    23  non-null values\n",
        "34    23  non-null values\n",
        "35    23  non-null values\n",
        "36    23  non-null values\n",
        "37    23  non-null values\n",
        "38    23  non-null values\n",
        "39    23  non-null values\n",
        "40    23  non-null values\n",
        "41    23  non-null values\n",
        "42    23  non-null values\n",
        "43    23  non-null values\n",
        "44    23  non-null values\n",
        "45    23  non-null values\n",
        "46    23  non-null values\n",
        "47    23  non-null values\n",
        "48    23  non-null values\n",
        "49    23  non-null values\n",
        "dtypes: float64(50)"
       ]
      }
     ],
     "prompt_number": 29
    },
    {
     "cell_type": "code",
     "collapsed": false,
     "input": [
      "slr_5"
     ],
     "language": "python",
     "metadata": {},
     "outputs": [
      {
       "html": [
        "<pre>\n",
        "&lt;class 'pandas.core.frame.DataFrame'&gt;\n",
        "Int64Index: 50 entries, 0 to 49\n",
        "Data columns (total 23 columns):\n",
        "dip     50  non-null values\n",
        "Ddot    50  non-null values\n",
        "1       50  non-null values\n",
        "5       50  non-null values\n",
        "10      50  non-null values\n",
        "15      50  non-null values\n",
        "20      50  non-null values\n",
        "25      50  non-null values\n",
        "30      50  non-null values\n",
        "35      50  non-null values\n",
        "40      50  non-null values\n",
        "45      50  non-null values\n",
        "50      50  non-null values\n",
        "55      50  non-null values\n",
        "60      50  non-null values\n",
        "65      50  non-null values\n",
        "70      50  non-null values\n",
        "75      50  non-null values\n",
        "80      50  non-null values\n",
        "85      50  non-null values\n",
        "90      50  non-null values\n",
        "95      50  non-null values\n",
        "100     50  non-null values\n",
        "dtypes: float64(23)\n",
        "</pre>"
       ],
       "metadata": {},
       "output_type": "pyout",
       "prompt_number": 19,
       "text": [
        "<class 'pandas.core.frame.DataFrame'>\n",
        "Int64Index: 50 entries, 0 to 49\n",
        "Data columns (total 23 columns):\n",
        "dip     50  non-null values\n",
        "Ddot    50  non-null values\n",
        "1       50  non-null values\n",
        "5       50  non-null values\n",
        "10      50  non-null values\n",
        "15      50  non-null values\n",
        "20      50  non-null values\n",
        "25      50  non-null values\n",
        "30      50  non-null values\n",
        "35      50  non-null values\n",
        "40      50  non-null values\n",
        "45      50  non-null values\n",
        "50      50  non-null values\n",
        "55      50  non-null values\n",
        "60      50  non-null values\n",
        "65      50  non-null values\n",
        "70      50  non-null values\n",
        "75      50  non-null values\n",
        "80      50  non-null values\n",
        "85      50  non-null values\n",
        "90      50  non-null values\n",
        "95      50  non-null values\n",
        "100     50  non-null values\n",
        "dtypes: float64(23)"
       ]
      }
     ],
     "prompt_number": 19
    },
    {
     "cell_type": "code",
     "collapsed": false,
     "input": [
      "len(probs)"
     ],
     "language": "python",
     "metadata": {},
     "outputs": [
      {
       "metadata": {},
       "output_type": "pyout",
       "prompt_number": 21,
       "text": [
        "21"
       ]
      }
     ],
     "prompt_number": 21
    },
    {
     "cell_type": "code",
     "collapsed": false,
     "input": [],
     "language": "python",
     "metadata": {},
     "outputs": []
    }
   ],
   "metadata": {}
  }
 ]
}