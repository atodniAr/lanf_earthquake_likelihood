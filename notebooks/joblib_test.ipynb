{
 "metadata": {
  "name": ""
 },
 "nbformat": 3,
 "nbformat_minor": 0,
 "worksheets": [
  {
   "cells": [
    {
     "cell_type": "code",
     "collapsed": false,
     "input": [
      "import sys\n",
      "sys.path.append('../eq_stats')\n",
      "\n",
      "import numpy as np\n",
      "import pandas as pd\n",
      "import eq_stats as eqs\n",
      "\n",
      "# problem setup\n",
      "\n",
      "# read in fault data table\n",
      "f = pd.read_csv('../data/lanf_stats.csv', index_col=0) \n",
      "\n",
      "# define some constants and parameters\n",
      "n_eq_samp = 5e4 # number of earthquakes in time series\n",
      "time_window = np.hstack( (1, np.arange(5, 105, step=5) ) ) # observation times\n",
      "mc_iters = 50\n",
      "mc_index = np.arange(mc_iters, dtype='int')\n",
      "mc_cols = ['dip', 'Ddot'] + [t for t in time_window]\n",
      "mag_min = 5\n",
      "\n",
      "# define frequency-magnitude distribution\n",
      "M_vec = np.linspace(5, 7.64, num=1000)\n",
      "FM_vec = eqs.F(M_vec)\n",
      "\n",
      "\n",
      "# First run on South Lunggar Detachment\n",
      "slr = f.loc['s_lunggar'] # select S. Lunggar fault data from data table\n",
      "\n",
      "#DF for SLR MC, >= M5 eqs\n",
      "slr_5 = pd.DataFrame(index=mc_index, columns=mc_cols, dtype='float') \n",
      "\n",
      "slr_5.dip, slr_dip_frac = eqs.dip_rand_samp( slr['dip_deg'], \n",
      "                                             slr['dip_err_deg'], mc_iters)\n",
      "\n",
      "slr_5.Ddot = eqs.Ddot_rand_samp( slr['slip_rate_mm_a'], \n",
      "                                      slr['sr_err_mm_a'], mc_iters)\n",
      "\n"
     ],
     "language": "python",
     "metadata": {},
     "outputs": [],
     "prompt_number": 11
    },
    {
     "cell_type": "code",
     "collapsed": false,
     "input": [
      "%%timeit\n",
      "# Loop through\n",
      "for ii in mc_index:\n",
      "    ss = slr_5.iloc[ii]\n",
      "    M_samp = eqs.sample_from_pdf(M_vec, FM_vec, n_eq_samp)\n",
      "    Mo_samp = eqs.calc_Mo_from_M(M_samp)\n",
      "\n",
      "    recur_int = eqs.calc_recurrence_interval(Mo=Mo_samp, dip=ss['dip'],\n",
      "                                             slip_rate=ss['Ddot'],\n",
      "                                             L=slr['L_km'], z=slr['z_km'])\n",
      "\n",
      "    cum_yrs = eqs.calc_cumulative_yrs(recur_int)\n",
      "\n",
      "    eq_series = eqs.make_eq_time_series(M_samp, cum_yrs)  # maybe store in dict\n",
      "    \n",
      "    for t in time_window:\n",
      "        ss[t] = ( eqs.get_prob_above_val_in_window(eq_series, mag_min, t) \n",
      "                * slr_dip_frac )\n",
      "\n",
      "#    print ii\n",
      "\n",
      "print 'done'"
     ],
     "language": "python",
     "metadata": {},
     "outputs": [
      {
       "output_type": "stream",
       "stream": "stdout",
       "text": [
        "done\n",
        "done"
       ]
      },
      {
       "output_type": "stream",
       "stream": "stdout",
       "text": [
        "\n",
        "done"
       ]
      },
      {
       "output_type": "stream",
       "stream": "stdout",
       "text": [
        "\n",
        "done"
       ]
      },
      {
       "output_type": "stream",
       "stream": "stdout",
       "text": [
        "\n",
        "1 loops, best of 3: 6min 54s per loop"
       ]
      },
      {
       "output_type": "stream",
       "stream": "stdout",
       "text": [
        "\n"
       ]
      }
     ],
     "prompt_number": 12
    },
    {
     "cell_type": "code",
     "collapsed": false,
     "input": [
      "from joblib import Parallel, delayed"
     ],
     "language": "python",
     "metadata": {},
     "outputs": [],
     "prompt_number": 14
    },
    {
     "cell_type": "code",
     "collapsed": false,
     "input": [
      "for ii in mc_index:\n",
      "    ss = slr_5.iloc[ii]\n",
      "    M_samp = eqs.sample_from_pdf(M_vec, FM_vec, n_eq_samp)\n",
      "    Mo_samp = eqs.calc_Mo_from_M(M_samp)\n",
      "\n",
      "    recur_int = eqs.calc_recurrence_interval(Mo=Mo_samp, dip=ss['dip'],\n",
      "                                             slip_rate=ss['Ddot'],\n",
      "                                             L=slr['L_km'], z=slr['z_km'])\n",
      "\n",
      "    cum_yrs = eqs.calc_cumulative_yrs(recur_int)\n",
      "\n",
      "    eq_series = eqs.make_eq_time_series(M_samp, cum_yrs)  # maybe store in dict\n",
      "\n",
      "    probs = Parallel(n_jobs = -2) (delayed( eqs.get_prob_above_val_in_window)\n",
      "                                   (eq_series, mag_min, t) for t in time_window)\n",
      "    #print probs\n",
      "\n",
      "print 'done'"
     ],
     "language": "python",
     "metadata": {},
     "outputs": [
      {
       "ename": "KeyboardInterrupt",
       "evalue": "",
       "output_type": "pyerr",
       "traceback": [
        "\u001b[0;31m---------------------------------------------------------------------------\u001b[0m\n\u001b[0;31mKeyboardInterrupt\u001b[0m                         Traceback (most recent call last)",
        "\u001b[0;32m<ipython-input-17-cdc6355a225b>\u001b[0m in \u001b[0;36m<module>\u001b[0;34m()\u001b[0m\n\u001b[1;32m      1\u001b[0m \u001b[0;32mfor\u001b[0m \u001b[0mii\u001b[0m \u001b[0;32min\u001b[0m \u001b[0mmc_index\u001b[0m\u001b[0;34m:\u001b[0m\u001b[0;34m\u001b[0m\u001b[0m\n\u001b[1;32m      2\u001b[0m     \u001b[0mss\u001b[0m \u001b[0;34m=\u001b[0m \u001b[0mslr_5\u001b[0m\u001b[0;34m.\u001b[0m\u001b[0miloc\u001b[0m\u001b[0;34m[\u001b[0m\u001b[0mii\u001b[0m\u001b[0;34m]\u001b[0m\u001b[0;34m\u001b[0m\u001b[0m\n\u001b[0;32m----> 3\u001b[0;31m     \u001b[0mM_samp\u001b[0m \u001b[0;34m=\u001b[0m \u001b[0meqs\u001b[0m\u001b[0;34m.\u001b[0m\u001b[0msample_from_pdf\u001b[0m\u001b[0;34m(\u001b[0m\u001b[0mM_vec\u001b[0m\u001b[0;34m,\u001b[0m \u001b[0mFM_vec\u001b[0m\u001b[0;34m,\u001b[0m \u001b[0mn_eq_samp\u001b[0m\u001b[0;34m)\u001b[0m\u001b[0;34m\u001b[0m\u001b[0m\n\u001b[0m\u001b[1;32m      4\u001b[0m     \u001b[0mMo_samp\u001b[0m \u001b[0;34m=\u001b[0m \u001b[0meqs\u001b[0m\u001b[0;34m.\u001b[0m\u001b[0mcalc_Mo_from_M\u001b[0m\u001b[0;34m(\u001b[0m\u001b[0mM_samp\u001b[0m\u001b[0;34m)\u001b[0m\u001b[0;34m\u001b[0m\u001b[0m\n\u001b[1;32m      5\u001b[0m \u001b[0;34m\u001b[0m\u001b[0m\n",
        "\u001b[0;32m/Users/styron/lanf/lanf_eq_likelihood/eq_stats/eq_stats.py\u001b[0m in \u001b[0;36msample_from_pdf\u001b[0;34m(vals, counts, num)\u001b[0m\n\u001b[1;32m     94\u001b[0m \u001b[0;34m\u001b[0m\u001b[0m\n\u001b[1;32m     95\u001b[0m \u001b[0;32mdef\u001b[0m \u001b[0msample_from_pdf\u001b[0m\u001b[0;34m(\u001b[0m\u001b[0mvals\u001b[0m\u001b[0;34m,\u001b[0m \u001b[0mcounts\u001b[0m\u001b[0;34m,\u001b[0m \u001b[0mnum\u001b[0m\u001b[0;34m)\u001b[0m\u001b[0;34m:\u001b[0m\u001b[0;34m\u001b[0m\u001b[0m\n\u001b[0;32m---> 96\u001b[0;31m     \u001b[0minv_ecdf_d\u001b[0m \u001b[0;34m=\u001b[0m \u001b[0mget_inverse_ecdf_dict\u001b[0m\u001b[0;34m(\u001b[0m\u001b[0mvals\u001b[0m\u001b[0;34m,\u001b[0m \u001b[0mcounts\u001b[0m\u001b[0;34m)\u001b[0m\u001b[0;34m\u001b[0m\u001b[0m\n\u001b[0m\u001b[1;32m     97\u001b[0m     \u001b[0mrand_samp\u001b[0m \u001b[0;34m=\u001b[0m \u001b[0mnp\u001b[0m\u001b[0;34m.\u001b[0m\u001b[0mrandom\u001b[0m\u001b[0;34m.\u001b[0m\u001b[0mrand\u001b[0m\u001b[0;34m(\u001b[0m\u001b[0mnum\u001b[0m\u001b[0;34m)\u001b[0m\u001b[0;34m\u001b[0m\u001b[0m\n\u001b[1;32m     98\u001b[0m     \u001b[0mpdf_samp\u001b[0m \u001b[0;34m=\u001b[0m \u001b[0mfind_nearest_dict_val\u001b[0m\u001b[0;34m(\u001b[0m\u001b[0minv_ecdf_d\u001b[0m\u001b[0;34m,\u001b[0m \u001b[0mrand_samp\u001b[0m\u001b[0;34m)\u001b[0m\u001b[0;34m\u001b[0m\u001b[0m\n",
        "\u001b[0;32m/Users/styron/lanf/lanf_eq_likelihood/eq_stats/eq_stats.py\u001b[0m in \u001b[0;36mget_inverse_ecdf_dict\u001b[0;34m(vals, counts, norm)\u001b[0m\n\u001b[1;32m     76\u001b[0m \u001b[0;32mdef\u001b[0m \u001b[0mget_inverse_ecdf_dict\u001b[0m\u001b[0;34m(\u001b[0m\u001b[0mvals\u001b[0m\u001b[0;34m=\u001b[0m\u001b[0mNone\u001b[0m\u001b[0;34m,\u001b[0m \u001b[0mcounts\u001b[0m\u001b[0;34m=\u001b[0m\u001b[0mNone\u001b[0m\u001b[0;34m,\u001b[0m \u001b[0mnorm\u001b[0m\u001b[0;34m=\u001b[0m\u001b[0mTrue\u001b[0m\u001b[0;34m)\u001b[0m\u001b[0;34m:\u001b[0m\u001b[0;34m\u001b[0m\u001b[0m\n\u001b[1;32m     77\u001b[0m \u001b[0;34m\u001b[0m\u001b[0m\n\u001b[0;32m---> 78\u001b[0;31m     \u001b[0mecdf_dict\u001b[0m \u001b[0;34m=\u001b[0m \u001b[0mget_ecdf_dict\u001b[0m\u001b[0;34m(\u001b[0m\u001b[0mvals\u001b[0m\u001b[0;34m,\u001b[0m \u001b[0mcounts\u001b[0m\u001b[0;34m,\u001b[0m \u001b[0mnorm\u001b[0m\u001b[0;34m)\u001b[0m\u001b[0;34m\u001b[0m\u001b[0m\n\u001b[0m\u001b[1;32m     79\u001b[0m     \u001b[0minv_ecdf_dict\u001b[0m \u001b[0;34m=\u001b[0m \u001b[0;34m{\u001b[0m\u001b[0my\u001b[0m\u001b[0;34m:\u001b[0m\u001b[0mx\u001b[0m \u001b[0;32mfor\u001b[0m \u001b[0mx\u001b[0m\u001b[0;34m,\u001b[0m\u001b[0my\u001b[0m \u001b[0;32min\u001b[0m \u001b[0mecdf_dict\u001b[0m\u001b[0;34m.\u001b[0m\u001b[0miteritems\u001b[0m\u001b[0;34m(\u001b[0m\u001b[0;34m)\u001b[0m\u001b[0;34m}\u001b[0m\u001b[0;34m\u001b[0m\u001b[0m\n\u001b[1;32m     80\u001b[0m \u001b[0;34m\u001b[0m\u001b[0m\n",
        "\u001b[0;32m/Users/styron/lanf/lanf_eq_likelihood/eq_stats/eq_stats.py\u001b[0m in \u001b[0;36mget_ecdf_dict\u001b[0;34m(vals, counts, norm)\u001b[0m\n\u001b[1;32m     68\u001b[0m     \u001b[0mecdf_dict\u001b[0m \u001b[0;34m=\u001b[0m \u001b[0;34m{\u001b[0m\u001b[0;34m}\u001b[0m\u001b[0;34m\u001b[0m\u001b[0m\n\u001b[1;32m     69\u001b[0m \u001b[0;34m\u001b[0m\u001b[0m\n\u001b[0;32m---> 70\u001b[0;31m     \u001b[0;32mfor\u001b[0m \u001b[0mi\u001b[0m\u001b[0;34m,\u001b[0m \u001b[0mval\u001b[0m \u001b[0;32min\u001b[0m \u001b[0menumerate\u001b[0m\u001b[0;34m(\u001b[0m\u001b[0mvals\u001b[0m\u001b[0;34m)\u001b[0m\u001b[0;34m:\u001b[0m\u001b[0;34m\u001b[0m\u001b[0m\n\u001b[0m\u001b[1;32m     71\u001b[0m         \u001b[0mecdf_dict\u001b[0m\u001b[0;34m[\u001b[0m\u001b[0mval\u001b[0m\u001b[0;34m]\u001b[0m \u001b[0;34m=\u001b[0m \u001b[0mecdf\u001b[0m\u001b[0;34m[\u001b[0m\u001b[0mi\u001b[0m\u001b[0;34m]\u001b[0m\u001b[0;34m\u001b[0m\u001b[0m\n\u001b[1;32m     72\u001b[0m \u001b[0;34m\u001b[0m\u001b[0m\n",
        "\u001b[0;31mKeyboardInterrupt\u001b[0m: "
       ]
      }
     ],
     "prompt_number": 17
    },
    {
     "cell_type": "code",
     "collapsed": false,
     "input": [
      "%%timeit\n",
      "\n",
      "# Loop through\n",
      "for ii in mc_index:\n",
      "    ss = slr_5.iloc[ii]\n",
      "    M_samp = eqs.sample_from_pdf(M_vec, FM_vec, n_eq_samp)\n",
      "    Mo_samp = eqs.calc_Mo_from_M(M_samp)\n",
      "\n",
      "    recur_int = eqs.calc_recurrence_interval(Mo=Mo_samp, dip=ss['dip'],\n",
      "                                             slip_rate=ss['Ddot'],\n",
      "                                             L=slr['L_km'], z=slr['z_km'])\n",
      "\n",
      "    cum_yrs = eqs.calc_cumulative_yrs(recur_int)\n",
      "\n",
      "    eq_series = eqs.make_eq_time_series(M_samp, cum_yrs)  # maybe store in dict\n",
      "\n",
      "    ss[t] = Parallel(n_jobs = -2) (delayed( eqs.get_prob_above_val_in_window)\n",
      "                                   (eq_series, mag_min, t) for t in time_window)\n",
      "    print ii\n",
      "\n",
      "print 'done'"
     ],
     "language": "python",
     "metadata": {},
     "outputs": []
    }
   ],
   "metadata": {}
  }
 ]
}