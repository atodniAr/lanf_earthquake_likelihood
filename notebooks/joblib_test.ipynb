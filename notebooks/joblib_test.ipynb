{
 "metadata": {
  "name": ""
 },
 "nbformat": 3,
 "nbformat_minor": 0,
 "worksheets": [
  {
   "cells": [
    {
     "cell_type": "code",
     "collapsed": false,
     "input": [
      "import sys\n",
      "sys.path.append('../eq_stats')\n",
      "\n",
      "import numpy as np\n",
      "import pandas as pd\n",
      "import eq_stats as eqs\n",
      "\n",
      "# problem setup\n",
      "\n",
      "# read in fault data table\n",
      "f = pd.read_csv('../data/lanf_stats.csv', index_col=0) \n",
      "\n",
      "# define some constants and parameters\n",
      "n_eq_samp = 2.5e4 # number of earthquakes in time series\n",
      "time_window = np.hstack( (1, np.arange(5, 105, step=5) ) ) # observation times\n",
      "mc_iters = 50\n",
      "mc_index = np.arange(mc_iters, dtype='int')\n",
      "mc_cols = ['dip', 'Ddot'] + [t for t in time_window]\n",
      "mag_min = 5\n",
      "\n",
      "# define frequency-magnitude distribution\n",
      "M_vec = np.linspace(5, 7.64, num=1000)\n",
      "FM_vec = eqs.F(M_vec)\n",
      "\n",
      "\n",
      "# First run on South Lunggar Detachment\n",
      "slr = f.loc['s_lunggar'] # select S. Lunggar fault data from data table\n",
      "\n",
      "#DF for SLR MC, >= M5 eqs\n",
      "slr_5 = pd.DataFrame(index=mc_index, columns=mc_cols, dtype='float') \n",
      "\n",
      "slr_5.dip, slr_dip_frac = eqs.dip_rand_samp( slr['dip_deg'], \n",
      "                                             slr['dip_err_deg'], mc_iters)\n",
      "\n",
      "slr_5.Ddot = eqs.Ddot_rand_samp( slr['slip_rate_mm_a'], \n",
      "                                      slr['sr_err_mm_a'], mc_iters)\n",
      "\n"
     ],
     "language": "python",
     "metadata": {},
     "outputs": [],
<<<<<<< HEAD
     "prompt_number": 9
=======
     "prompt_number": 1
>>>>>>> dfb89b68e83923341ee6a1c47abacaa88e126c4c
    },
    {
     "cell_type": "code",
     "collapsed": false,
     "input": [
<<<<<<< HEAD
      "from joblib import Parallel, delayed"
     ],
     "language": "python",
     "metadata": {},
     "outputs": [],
     "prompt_number": 3
    },
    {
     "cell_type": "code",
     "collapsed": false,
     "input": [
      "def index_loop(df, index):\n",
      "    ss = df.iloc[index]\n",
=======
      "%%timeit\n",
      "# Loop through\n",
      "for ii in mc_index:\n",
      "    ss = slr_5.iloc[ii]\n",
>>>>>>> dfb89b68e83923341ee6a1c47abacaa88e126c4c
      "    M_samp = eqs.sample_from_pdf(M_vec, FM_vec, n_eq_samp)\n",
      "    Mo_samp = eqs.calc_Mo_from_M(M_samp)\n",
      "\n",
      "    recur_int = eqs.calc_recurrence_interval(Mo=Mo_samp, dip=ss['dip'],\n",
      "                                             slip_rate=ss['Ddot'],\n",
      "                                             L=slr['L_km'], z=slr['z_km'])\n",
      "\n",
      "    cum_yrs = eqs.calc_cumulative_yrs(recur_int)\n",
      "\n",
      "    eq_series = eqs.make_eq_time_series(M_samp, cum_yrs)  # maybe store in dict\n",
      "    \n",
      "    for t in time_window:\n",
      "        ss[t] = ( eqs.get_prob_above_val_in_window(eq_series, mag_min, t) \n",
      "                * slr_dip_frac )\n",
<<<<<<< HEAD
      "        df.iloc[index][t] = ss[t]\n",
      "    \n",
      "    return ss"
     ],
     "language": "python",
     "metadata": {},
     "outputs": [],
     "prompt_number": 33
=======
      "\n",
      "#    print ii\n",
      "\n",
      "print 'done'"
     ],
     "language": "python",
     "metadata": {},
     "outputs": [
      {
       "output_type": "stream",
       "stream": "stdout",
       "text": [
        "done\n",
        "done"
       ]
      },
      {
       "output_type": "stream",
       "stream": "stdout",
       "text": [
        "\n",
        "done"
       ]
      },
      {
       "output_type": "stream",
       "stream": "stdout",
       "text": [
        "\n",
        "done"
       ]
      },
      {
       "output_type": "stream",
       "stream": "stdout",
       "text": [
        "\n",
        "1 loops, best of 3: 2min 30s per loop\n"
       ]
      }
     ],
     "prompt_number": 2
>>>>>>> dfb89b68e83923341ee6a1c47abacaa88e126c4c
    },
    {
     "cell_type": "code",
     "collapsed": false,
     "input": [
<<<<<<< HEAD
      "#%%timeit\n",
      "\n",
      "ser_list = Parallel(n_jobs=-2) (delayed( index_loop)(slr_5, ii) for ii in mc_index)"
=======
      "from joblib import Parallel, delayed"
>>>>>>> dfb89b68e83923341ee6a1c47abacaa88e126c4c
     ],
     "language": "python",
     "metadata": {},
     "outputs": [],
<<<<<<< HEAD
     "prompt_number": 34
    },
    {
     "cell_type": "markdown",
     "metadata": {},
     "source": [
      "need to figure out how to fill df right"
     ]
=======
     "prompt_number": 3
>>>>>>> dfb89b68e83923341ee6a1c47abacaa88e126c4c
    },
    {
     "cell_type": "code",
     "collapsed": false,
     "input": [
<<<<<<< HEAD
      "ser_list[0]"
=======
      "%%timeit\n",
      "for ii in mc_index:\n",
      "    ss = slr_5.iloc[ii]\n",
      "    M_samp = eqs.sample_from_pdf(M_vec, FM_vec, n_eq_samp)\n",
      "    Mo_samp = eqs.calc_Mo_from_M(M_samp)\n",
      "\n",
      "    recur_int = eqs.calc_recurrence_interval(Mo=Mo_samp, dip=ss['dip'],\n",
      "                                             slip_rate=ss['Ddot'],\n",
      "                                             L=slr['L_km'], z=slr['z_km'])\n",
      "\n",
      "    cum_yrs = eqs.calc_cumulative_yrs(recur_int)\n",
      "\n",
      "    eq_series = eqs.make_eq_time_series(M_samp, cum_yrs)  # maybe store in dict\n",
      "\n",
      "    probs = Parallel(n_jobs = -2) (delayed( eqs.get_prob_above_val_in_window)\n",
      "                                   (eq_series, mag_min, t) for t in time_window)\n",
      "    #print probs\n",
      "\n",
      "print 'done'"
>>>>>>> dfb89b68e83923341ee6a1c47abacaa88e126c4c
     ],
     "language": "python",
     "metadata": {},
     "outputs": [
      {
<<<<<<< HEAD
       "metadata": {},
       "output_type": "pyout",
       "prompt_number": 35,
       "text": [
        "dip     19.496351\n",
        "Ddot     2.080310\n",
        "1        0.002819\n",
        "5        0.014096\n",
        "10       0.027955\n",
        "15       0.038955\n",
        "20       0.047774\n",
        "25       0.055218\n",
        "30       0.061738\n",
        "35       0.067550\n",
        "40       0.072833\n",
        "45       0.077698\n",
        "50       0.082218\n",
        "55       0.086456\n",
        "60       0.090431\n",
        "65       0.094205\n",
        "70       0.097792\n",
        "75       0.101215\n",
        "80       0.104502\n",
        "85       0.107669\n",
        "90       0.110713\n",
        "95       0.113649\n",
        "100      0.116487\n",
        "Name: 0, dtype: float64"
       ]
      }
     ],
     "prompt_number": 35
=======
       "output_type": "stream",
       "stream": "stdout",
       "text": [
        "done\n"
       ]
      },
      {
       "output_type": "stream",
       "stream": "stdout",
       "text": [
        "done\n"
       ]
      },
      {
       "output_type": "stream",
       "stream": "stdout",
       "text": [
        "done\n"
       ]
      },
      {
       "output_type": "stream",
       "stream": "stdout",
       "text": [
        "done\n",
        "1 loops, best of 3: 3min 27s per loop\n"
       ]
      }
     ],
     "prompt_number": 5
>>>>>>> dfb89b68e83923341ee6a1c47abacaa88e126c4c
    },
    {
     "cell_type": "code",
     "collapsed": false,
     "input": [
<<<<<<< HEAD
      "slr_5_filled = slr_5.copy()"
=======
      "def index_loop(index):\n",
      "    ss = slr_5.iloc[index]\n",
      "    M_samp = eqs.sample_from_pdf(M_vec, FM_vec, n_eq_samp)\n",
      "    Mo_samp = eqs.calc_Mo_from_M(M_samp)\n",
      "\n",
      "    recur_int = eqs.calc_recurrence_interval(Mo=Mo_samp, dip=ss['dip'],\n",
      "                                             slip_rate=ss['Ddot'],\n",
      "                                             L=slr['L_km'], z=slr['z_km'])\n",
      "\n",
      "    cum_yrs = eqs.calc_cumulative_yrs(recur_int)\n",
      "\n",
      "    eq_series = eqs.make_eq_time_series(M_samp, cum_yrs)  # maybe store in dict\n",
      "    \n",
      "    for t in time_window:\n",
      "        ss[t] = ( eqs.get_prob_above_val_in_window(eq_series, mag_min, t) \n",
      "                * slr_dip_frac )\n",
      "    return ss"
>>>>>>> dfb89b68e83923341ee6a1c47abacaa88e126c4c
     ],
     "language": "python",
     "metadata": {},
     "outputs": [],
<<<<<<< HEAD
     "prompt_number": 36
=======
     "prompt_number": 6
>>>>>>> dfb89b68e83923341ee6a1c47abacaa88e126c4c
    },
    {
     "cell_type": "code",
     "collapsed": false,
     "input": [
<<<<<<< HEAD
      "slr_5.head()"
=======
      "%%timeit\n",
      "\n",
      "ss = Parallel(n_jobs=-2) (delayed( index_loop)(ii) for ii in mc_index)"
>>>>>>> dfb89b68e83923341ee6a1c47abacaa88e126c4c
     ],
     "language": "python",
     "metadata": {},
     "outputs": [
      {
<<<<<<< HEAD
       "html": [
        "<pre>\n",
        "&lt;class 'pandas.core.frame.DataFrame'&gt;\n",
        "Int64Index: 5 entries, 0 to 4\n",
        "Data columns (total 23 columns):\n",
        "dip     5  non-null values\n",
        "Ddot    5  non-null values\n",
        "1       0  non-null values\n",
        "5       0  non-null values\n",
        "10      0  non-null values\n",
        "15      0  non-null values\n",
        "20      0  non-null values\n",
        "25      0  non-null values\n",
        "30      0  non-null values\n",
        "35      0  non-null values\n",
        "40      0  non-null values\n",
        "45      0  non-null values\n",
        "50      0  non-null values\n",
        "55      0  non-null values\n",
        "60      0  non-null values\n",
        "65      0  non-null values\n",
        "70      0  non-null values\n",
        "75      0  non-null values\n",
        "80      0  non-null values\n",
        "85      0  non-null values\n",
        "90      0  non-null values\n",
        "95      0  non-null values\n",
        "100     0  non-null values\n",
        "dtypes: float64(23)\n",
        "</pre>"
       ],
       "metadata": {},
       "output_type": "pyout",
       "prompt_number": 37,
       "text": [
        "<class 'pandas.core.frame.DataFrame'>\n",
        "Int64Index: 5 entries, 0 to 4\n",
        "Data columns (total 23 columns):\n",
        "dip     5  non-null values\n",
        "Ddot    5  non-null values\n",
        "1       0  non-null values\n",
        "5       0  non-null values\n",
        "10      0  non-null values\n",
        "15      0  non-null values\n",
        "20      0  non-null values\n",
        "25      0  non-null values\n",
        "30      0  non-null values\n",
        "35      0  non-null values\n",
        "40      0  non-null values\n",
        "45      0  non-null values\n",
        "50      0  non-null values\n",
        "55      0  non-null values\n",
        "60      0  non-null values\n",
        "65      0  non-null values\n",
        "70      0  non-null values\n",
        "75      0  non-null values\n",
        "80      0  non-null values\n",
        "85      0  non-null values\n",
        "90      0  non-null values\n",
        "95      0  non-null values\n",
        "100     0  non-null values\n",
        "dtypes: float64(23)"
       ]
      }
     ],
     "prompt_number": 37
    },
    {
     "cell_type": "code",
     "collapsed": false,
     "input": [
      "for ii, ser in enumerate(ser_list):\n",
      "    ind = ser.index\n",
      "    slr_5_filled.iloc[ii][ list(ind)] = ser.values"
     ],
     "language": "python",
     "metadata": {},
     "outputs": [],
     "prompt_number": 60
=======
       "output_type": "stream",
       "stream": "stdout",
       "text": [
        "1 loops, best of 3: 39.6 s per loop\n"
       ]
      }
     ],
     "prompt_number": 10
    },
    {
     "cell_type": "markdown",
     "metadata": {},
     "source": [
      "need to figure out how to fill df right"
     ]
>>>>>>> dfb89b68e83923341ee6a1c47abacaa88e126c4c
    },
    {
     "cell_type": "code",
     "collapsed": false,
     "input": [
<<<<<<< HEAD
      "slr_5_filled.head()"
=======
      "type(ss)"
>>>>>>> dfb89b68e83923341ee6a1c47abacaa88e126c4c
     ],
     "language": "python",
     "metadata": {},
     "outputs": [
      {
<<<<<<< HEAD
       "html": [
        "<pre>\n",
        "&lt;class 'pandas.core.frame.DataFrame'&gt;\n",
        "Int64Index: 5 entries, 0 to 4\n",
        "Data columns (total 23 columns):\n",
        "dip     5  non-null values\n",
        "Ddot    5  non-null values\n",
        "1       5  non-null values\n",
        "5       5  non-null values\n",
        "10      5  non-null values\n",
        "15      5  non-null values\n",
        "20      5  non-null values\n",
        "25      5  non-null values\n",
        "30      5  non-null values\n",
        "35      5  non-null values\n",
        "40      5  non-null values\n",
        "45      5  non-null values\n",
        "50      5  non-null values\n",
        "55      5  non-null values\n",
        "60      5  non-null values\n",
        "65      5  non-null values\n",
        "70      5  non-null values\n",
        "75      5  non-null values\n",
        "80      5  non-null values\n",
        "85      5  non-null values\n",
        "90      5  non-null values\n",
        "95      5  non-null values\n",
        "100     5  non-null values\n",
        "dtypes: float64(23)\n",
        "</pre>"
       ],
       "metadata": {},
       "output_type": "pyout",
       "prompt_number": 61,
       "text": [
        "<class 'pandas.core.frame.DataFrame'>\n",
        "Int64Index: 5 entries, 0 to 4\n",
        "Data columns (total 23 columns):\n",
        "dip     5  non-null values\n",
        "Ddot    5  non-null values\n",
        "1       5  non-null values\n",
        "5       5  non-null values\n",
        "10      5  non-null values\n",
        "15      5  non-null values\n",
        "20      5  non-null values\n",
        "25      5  non-null values\n",
        "30      5  non-null values\n",
        "35      5  non-null values\n",
        "40      5  non-null values\n",
        "45      5  non-null values\n",
        "50      5  non-null values\n",
        "55      5  non-null values\n",
        "60      5  non-null values\n",
        "65      5  non-null values\n",
        "70      5  non-null values\n",
        "75      5  non-null values\n",
        "80      5  non-null values\n",
        "85      5  non-null values\n",
        "90      5  non-null values\n",
        "95      5  non-null values\n",
        "100     5  non-null values\n",
        "dtypes: float64(23)"
       ]
      }
     ],
     "prompt_number": 61
=======
       "metadata": {},
       "output_type": "pyout",
       "prompt_number": 12,
       "text": [
        "list"
       ]
      }
     ],
     "prompt_number": 12
>>>>>>> dfb89b68e83923341ee6a1c47abacaa88e126c4c
    },
    {
     "cell_type": "code",
     "collapsed": false,
     "input": [
<<<<<<< HEAD
      "ind = ser_list[0].index"
     ],
     "language": "python",
     "metadata": {},
     "outputs": [],
     "prompt_number": 42
    },
    {
     "cell_type": "code",
     "collapsed": false,
     "input": [
      "ser_list[0].values"
=======
      "len(ss)"
>>>>>>> dfb89b68e83923341ee6a1c47abacaa88e126c4c
     ],
     "language": "python",
     "metadata": {},
     "outputs": [
      {
       "metadata": {},
       "output_type": "pyout",
<<<<<<< HEAD
       "prompt_number": 55,
       "text": [
        "array([  1.94963510e+01,   2.08030973e+00,   2.81936116e-03,\n",
        "         1.40963547e-02,   2.79549809e-02,   3.89553387e-02,\n",
        "         4.77743004e-02,   5.52179778e-02,   6.17383707e-02,\n",
        "         6.75503146e-02,   7.28333463e-02,   7.76980976e-02,\n",
        "         8.22175336e-02,   8.64558228e-02,   9.04311220e-02,\n",
        "         9.42046678e-02,   9.77920229e-02,   1.01215291e-01,\n",
        "         1.04502441e-01,   1.07669486e-01,   1.10712930e-01,\n",
        "         1.13648674e-01,   1.16487094e-01])"
       ]
      }
     ],
     "prompt_number": 55
=======
       "prompt_number": 13,
       "text": [
        "50"
       ]
      }
     ],
     "prompt_number": 13
>>>>>>> dfb89b68e83923341ee6a1c47abacaa88e126c4c
    },
    {
     "cell_type": "code",
     "collapsed": false,
     "input": [
<<<<<<< HEAD
      "list(ind)"
=======
      "np.dtype(ss[0])"
>>>>>>> dfb89b68e83923341ee6a1c47abacaa88e126c4c
     ],
     "language": "python",
     "metadata": {},
     "outputs": [
      {
       "metadata": {},
       "output_type": "pyout",
<<<<<<< HEAD
       "prompt_number": 59,
       "text": [
        "['dip',\n",
        " 'Ddot',\n",
        " 1,\n",
        " 5,\n",
        " 10,\n",
        " 15,\n",
        " 20,\n",
        " 25,\n",
        " 30,\n",
        " 35,\n",
        " 40,\n",
        " 45,\n",
        " 50,\n",
        " 55,\n",
        " 60,\n",
        " 65,\n",
        " 70,\n",
        " 75,\n",
        " 80,\n",
        " 85,\n",
        " 90,\n",
        " 95,\n",
        " 100]"
       ]
      }
     ],
     "prompt_number": 59
=======
       "prompt_number": 37,
       "text": [
        "dtype('float64')"
       ]
      }
     ],
     "prompt_number": 37
    },
    {
     "cell_type": "code",
     "collapsed": false,
     "input": [
      "slr_5_filled = slr_5.copy()"
     ],
     "language": "python",
     "metadata": {},
     "outputs": [],
     "prompt_number": 31
>>>>>>> dfb89b68e83923341ee6a1c47abacaa88e126c4c
    },
    {
     "cell_type": "code",
     "collapsed": false,
     "input": [
      "slr_5_filled"
     ],
     "language": "python",
     "metadata": {},
     "outputs": [
      {
       "html": [
        "<pre>\n",
        "&lt;class 'pandas.core.frame.DataFrame'&gt;\n",
        "Int64Index: 50 entries, 0 to 49\n",
        "Data columns (total 23 columns):\n",
        "dip     50  non-null values\n",
        "Ddot    50  non-null values\n",
<<<<<<< HEAD
        "1       0  non-null values\n",
        "5       0  non-null values\n",
        "10      0  non-null values\n",
        "15      0  non-null values\n",
        "20      0  non-null values\n",
        "25      0  non-null values\n",
        "30      0  non-null values\n",
        "35      0  non-null values\n",
        "40      0  non-null values\n",
        "45      0  non-null values\n",
        "50      0  non-null values\n",
        "55      0  non-null values\n",
        "60      0  non-null values\n",
        "65      0  non-null values\n",
        "70      0  non-null values\n",
        "75      0  non-null values\n",
        "80      0  non-null values\n",
        "85      0  non-null values\n",
        "90      0  non-null values\n",
        "95      0  non-null values\n",
        "100     0  non-null values\n",
=======
        "1       50  non-null values\n",
        "5       50  non-null values\n",
        "10      50  non-null values\n",
        "15      50  non-null values\n",
        "20      50  non-null values\n",
        "25      50  non-null values\n",
        "30      50  non-null values\n",
        "35      50  non-null values\n",
        "40      50  non-null values\n",
        "45      50  non-null values\n",
        "50      50  non-null values\n",
        "55      50  non-null values\n",
        "60      50  non-null values\n",
        "65      50  non-null values\n",
        "70      50  non-null values\n",
        "75      50  non-null values\n",
        "80      50  non-null values\n",
        "85      50  non-null values\n",
        "90      50  non-null values\n",
        "95      50  non-null values\n",
        "100     50  non-null values\n",
>>>>>>> dfb89b68e83923341ee6a1c47abacaa88e126c4c
        "dtypes: float64(23)\n",
        "</pre>"
       ],
       "metadata": {},
       "output_type": "pyout",
<<<<<<< HEAD
       "prompt_number": 32,
=======
       "prompt_number": 33,
>>>>>>> dfb89b68e83923341ee6a1c47abacaa88e126c4c
       "text": [
        "<class 'pandas.core.frame.DataFrame'>\n",
        "Int64Index: 50 entries, 0 to 49\n",
        "Data columns (total 23 columns):\n",
        "dip     50  non-null values\n",
        "Ddot    50  non-null values\n",
<<<<<<< HEAD
        "1       0  non-null values\n",
        "5       0  non-null values\n",
        "10      0  non-null values\n",
        "15      0  non-null values\n",
        "20      0  non-null values\n",
        "25      0  non-null values\n",
        "30      0  non-null values\n",
        "35      0  non-null values\n",
        "40      0  non-null values\n",
        "45      0  non-null values\n",
        "50      0  non-null values\n",
        "55      0  non-null values\n",
        "60      0  non-null values\n",
        "65      0  non-null values\n",
        "70      0  non-null values\n",
        "75      0  non-null values\n",
        "80      0  non-null values\n",
        "85      0  non-null values\n",
        "90      0  non-null values\n",
        "95      0  non-null values\n",
        "100     0  non-null values\n",
=======
        "1       50  non-null values\n",
        "5       50  non-null values\n",
        "10      50  non-null values\n",
        "15      50  non-null values\n",
        "20      50  non-null values\n",
        "25      50  non-null values\n",
        "30      50  non-null values\n",
        "35      50  non-null values\n",
        "40      50  non-null values\n",
        "45      50  non-null values\n",
        "50      50  non-null values\n",
        "55      50  non-null values\n",
        "60      50  non-null values\n",
        "65      50  non-null values\n",
        "70      50  non-null values\n",
        "75      50  non-null values\n",
        "80      50  non-null values\n",
        "85      50  non-null values\n",
        "90      50  non-null values\n",
        "95      50  non-null values\n",
        "100     50  non-null values\n",
>>>>>>> dfb89b68e83923341ee6a1c47abacaa88e126c4c
        "dtypes: float64(23)"
       ]
      }
     ],
<<<<<<< HEAD
     "prompt_number": 32
=======
     "prompt_number": 33
    },
    {
     "cell_type": "code",
     "collapsed": false,
     "input": [
      "for ii, ser in enumerate(ss):\n",
      "    slr_5_filled.iloc[ii] = ser"
     ],
     "language": "python",
     "metadata": {},
     "outputs": [],
     "prompt_number": 34
>>>>>>> dfb89b68e83923341ee6a1c47abacaa88e126c4c
    },
    {
     "cell_type": "code",
     "collapsed": false,
     "input": [
      "slr_5_filled"
     ],
     "language": "python",
     "metadata": {},
     "outputs": [
      {
       "html": [
        "<pre>\n",
        "&lt;class 'pandas.core.frame.DataFrame'&gt;\n",
        "Int64Index: 50 entries, 0 to 49\n",
        "Data columns (total 23 columns):\n",
        "dip     50  non-null values\n",
        "Ddot    50  non-null values\n",
        "1       50  non-null values\n",
        "5       50  non-null values\n",
        "10      50  non-null values\n",
        "15      50  non-null values\n",
        "20      50  non-null values\n",
        "25      50  non-null values\n",
        "30      50  non-null values\n",
        "35      50  non-null values\n",
        "40      50  non-null values\n",
        "45      50  non-null values\n",
        "50      50  non-null values\n",
        "55      50  non-null values\n",
        "60      50  non-null values\n",
        "65      50  non-null values\n",
        "70      50  non-null values\n",
        "75      50  non-null values\n",
        "80      50  non-null values\n",
        "85      50  non-null values\n",
        "90      50  non-null values\n",
        "95      50  non-null values\n",
        "100     50  non-null values\n",
        "dtypes: float64(23)\n",
        "</pre>"
       ],
       "metadata": {},
       "output_type": "pyout",
       "prompt_number": 35,
       "text": [
        "<class 'pandas.core.frame.DataFrame'>\n",
        "Int64Index: 50 entries, 0 to 49\n",
        "Data columns (total 23 columns):\n",
        "dip     50  non-null values\n",
        "Ddot    50  non-null values\n",
        "1       50  non-null values\n",
        "5       50  non-null values\n",
        "10      50  non-null values\n",
        "15      50  non-null values\n",
        "20      50  non-null values\n",
        "25      50  non-null values\n",
        "30      50  non-null values\n",
        "35      50  non-null values\n",
        "40      50  non-null values\n",
        "45      50  non-null values\n",
        "50      50  non-null values\n",
        "55      50  non-null values\n",
        "60      50  non-null values\n",
        "65      50  non-null values\n",
        "70      50  non-null values\n",
        "75      50  non-null values\n",
        "80      50  non-null values\n",
        "85      50  non-null values\n",
        "90      50  non-null values\n",
        "95      50  non-null values\n",
        "100     50  non-null values\n",
        "dtypes: float64(23)"
       ]
      }
     ],
     "prompt_number": 35
    },
    {
     "cell_type": "code",
     "collapsed": false,
     "input": [
      "slr_5_filled = pd.concat(ss, axis=1)#, keys=[s.name for s in ss])"
     ],
     "language": "python",
     "metadata": {},
     "outputs": [],
     "prompt_number": 28
    },
    {
     "cell_type": "code",
     "collapsed": false,
     "input": [
      "slr_5_filled"
     ],
     "language": "python",
     "metadata": {},
     "outputs": [
      {
       "html": [
        "<pre>\n",
        "&lt;class 'pandas.core.frame.DataFrame'&gt;\n",
        "Index: 23 entries, dip to 100\n",
        "Data columns (total 50 columns):\n",
        "0     23  non-null values\n",
        "1     23  non-null values\n",
        "2     23  non-null values\n",
        "3     23  non-null values\n",
        "4     23  non-null values\n",
        "5     23  non-null values\n",
        "6     23  non-null values\n",
        "7     23  non-null values\n",
        "8     23  non-null values\n",
        "9     23  non-null values\n",
        "10    23  non-null values\n",
        "11    23  non-null values\n",
        "12    23  non-null values\n",
        "13    23  non-null values\n",
        "14    23  non-null values\n",
        "15    23  non-null values\n",
        "16    23  non-null values\n",
        "17    23  non-null values\n",
        "18    23  non-null values\n",
        "19    23  non-null values\n",
        "20    23  non-null values\n",
        "21    23  non-null values\n",
        "22    23  non-null values\n",
        "23    23  non-null values\n",
        "24    23  non-null values\n",
        "25    23  non-null values\n",
        "26    23  non-null values\n",
        "27    23  non-null values\n",
        "28    23  non-null values\n",
        "29    23  non-null values\n",
        "30    23  non-null values\n",
        "31    23  non-null values\n",
        "32    23  non-null values\n",
        "33    23  non-null values\n",
        "34    23  non-null values\n",
        "35    23  non-null values\n",
        "36    23  non-null values\n",
        "37    23  non-null values\n",
        "38    23  non-null values\n",
        "39    23  non-null values\n",
        "40    23  non-null values\n",
        "41    23  non-null values\n",
        "42    23  non-null values\n",
        "43    23  non-null values\n",
        "44    23  non-null values\n",
        "45    23  non-null values\n",
        "46    23  non-null values\n",
        "47    23  non-null values\n",
        "48    23  non-null values\n",
        "49    23  non-null values\n",
        "dtypes: float64(50)\n",
        "</pre>"
       ],
       "metadata": {},
       "output_type": "pyout",
       "prompt_number": 29,
       "text": [
        "<class 'pandas.core.frame.DataFrame'>\n",
        "Index: 23 entries, dip to 100\n",
        "Data columns (total 50 columns):\n",
        "0     23  non-null values\n",
        "1     23  non-null values\n",
        "2     23  non-null values\n",
        "3     23  non-null values\n",
        "4     23  non-null values\n",
        "5     23  non-null values\n",
        "6     23  non-null values\n",
        "7     23  non-null values\n",
        "8     23  non-null values\n",
        "9     23  non-null values\n",
        "10    23  non-null values\n",
        "11    23  non-null values\n",
        "12    23  non-null values\n",
        "13    23  non-null values\n",
        "14    23  non-null values\n",
        "15    23  non-null values\n",
        "16    23  non-null values\n",
        "17    23  non-null values\n",
        "18    23  non-null values\n",
        "19    23  non-null values\n",
        "20    23  non-null values\n",
        "21    23  non-null values\n",
        "22    23  non-null values\n",
        "23    23  non-null values\n",
        "24    23  non-null values\n",
        "25    23  non-null values\n",
        "26    23  non-null values\n",
        "27    23  non-null values\n",
        "28    23  non-null values\n",
        "29    23  non-null values\n",
        "30    23  non-null values\n",
        "31    23  non-null values\n",
        "32    23  non-null values\n",
        "33    23  non-null values\n",
        "34    23  non-null values\n",
        "35    23  non-null values\n",
        "36    23  non-null values\n",
        "37    23  non-null values\n",
        "38    23  non-null values\n",
        "39    23  non-null values\n",
        "40    23  non-null values\n",
        "41    23  non-null values\n",
        "42    23  non-null values\n",
        "43    23  non-null values\n",
        "44    23  non-null values\n",
        "45    23  non-null values\n",
        "46    23  non-null values\n",
        "47    23  non-null values\n",
        "48    23  non-null values\n",
        "49    23  non-null values\n",
        "dtypes: float64(50)"
       ]
      }
     ],
     "prompt_number": 29
    },
    {
     "cell_type": "code",
     "collapsed": false,
     "input": [
      "slr_5"
     ],
     "language": "python",
     "metadata": {},
     "outputs": [
      {
       "html": [
        "<pre>\n",
        "&lt;class 'pandas.core.frame.DataFrame'&gt;\n",
        "Int64Index: 50 entries, 0 to 49\n",
        "Data columns (total 23 columns):\n",
        "dip     50  non-null values\n",
        "Ddot    50  non-null values\n",
        "1       50  non-null values\n",
        "5       50  non-null values\n",
        "10      50  non-null values\n",
        "15      50  non-null values\n",
        "20      50  non-null values\n",
        "25      50  non-null values\n",
        "30      50  non-null values\n",
        "35      50  non-null values\n",
        "40      50  non-null values\n",
        "45      50  non-null values\n",
        "50      50  non-null values\n",
        "55      50  non-null values\n",
        "60      50  non-null values\n",
        "65      50  non-null values\n",
        "70      50  non-null values\n",
        "75      50  non-null values\n",
        "80      50  non-null values\n",
        "85      50  non-null values\n",
        "90      50  non-null values\n",
        "95      50  non-null values\n",
        "100     50  non-null values\n",
        "dtypes: float64(23)\n",
        "</pre>"
       ],
       "metadata": {},
       "output_type": "pyout",
       "prompt_number": 19,
       "text": [
        "<class 'pandas.core.frame.DataFrame'>\n",
        "Int64Index: 50 entries, 0 to 49\n",
        "Data columns (total 23 columns):\n",
        "dip     50  non-null values\n",
        "Ddot    50  non-null values\n",
        "1       50  non-null values\n",
        "5       50  non-null values\n",
        "10      50  non-null values\n",
        "15      50  non-null values\n",
        "20      50  non-null values\n",
        "25      50  non-null values\n",
        "30      50  non-null values\n",
        "35      50  non-null values\n",
        "40      50  non-null values\n",
        "45      50  non-null values\n",
        "50      50  non-null values\n",
        "55      50  non-null values\n",
        "60      50  non-null values\n",
        "65      50  non-null values\n",
        "70      50  non-null values\n",
        "75      50  non-null values\n",
        "80      50  non-null values\n",
        "85      50  non-null values\n",
        "90      50  non-null values\n",
        "95      50  non-null values\n",
        "100     50  non-null values\n",
        "dtypes: float64(23)"
       ]
      }
     ],
     "prompt_number": 19
    },
    {
     "cell_type": "code",
     "collapsed": false,
     "input": [
      "len(probs)"
     ],
     "language": "python",
     "metadata": {},
     "outputs": [
      {
       "metadata": {},
       "output_type": "pyout",
       "prompt_number": 21,
       "text": [
        "21"
       ]
      }
     ],
     "prompt_number": 21
    },
    {
     "cell_type": "code",
     "collapsed": false,
<<<<<<< HEAD
     "input": [
      "slrd = {}"
     ],
     "language": "python",
     "metadata": {},
     "outputs": [],
     "prompt_number": 62
    },
    {
     "cell_type": "code",
     "collapsed": false,
     "input": [
      "slrd[6] = pd.DataFrame(index=mc_index, columns=mc_cols, dtype='float')"
     ],
     "language": "python",
     "metadata": {},
     "outputs": [],
     "prompt_number": 63
    },
    {
     "cell_type": "code",
     "collapsed": false,
     "input": [
      "slrd[6]"
     ],
     "language": "python",
     "metadata": {},
     "outputs": [
      {
       "html": [
        "<pre>\n",
        "&lt;class 'pandas.core.frame.DataFrame'&gt;\n",
        "Int64Index: 50 entries, 0 to 49\n",
        "Data columns (total 23 columns):\n",
        "dip     0  non-null values\n",
        "Ddot    0  non-null values\n",
        "1       0  non-null values\n",
        "5       0  non-null values\n",
        "10      0  non-null values\n",
        "15      0  non-null values\n",
        "20      0  non-null values\n",
        "25      0  non-null values\n",
        "30      0  non-null values\n",
        "35      0  non-null values\n",
        "40      0  non-null values\n",
        "45      0  non-null values\n",
        "50      0  non-null values\n",
        "55      0  non-null values\n",
        "60      0  non-null values\n",
        "65      0  non-null values\n",
        "70      0  non-null values\n",
        "75      0  non-null values\n",
        "80      0  non-null values\n",
        "85      0  non-null values\n",
        "90      0  non-null values\n",
        "95      0  non-null values\n",
        "100     0  non-null values\n",
        "dtypes: float64(23)\n",
        "</pre>"
       ],
       "metadata": {},
       "output_type": "pyout",
       "prompt_number": 64,
       "text": [
        "<class 'pandas.core.frame.DataFrame'>\n",
        "Int64Index: 50 entries, 0 to 49\n",
        "Data columns (total 23 columns):\n",
        "dip     0  non-null values\n",
        "Ddot    0  non-null values\n",
        "1       0  non-null values\n",
        "5       0  non-null values\n",
        "10      0  non-null values\n",
        "15      0  non-null values\n",
        "20      0  non-null values\n",
        "25      0  non-null values\n",
        "30      0  non-null values\n",
        "35      0  non-null values\n",
        "40      0  non-null values\n",
        "45      0  non-null values\n",
        "50      0  non-null values\n",
        "55      0  non-null values\n",
        "60      0  non-null values\n",
        "65      0  non-null values\n",
        "70      0  non-null values\n",
        "75      0  non-null values\n",
        "80      0  non-null values\n",
        "85      0  non-null values\n",
        "90      0  non-null values\n",
        "95      0  non-null values\n",
        "100     0  non-null values\n",
        "dtypes: float64(23)"
       ]
      }
     ],
     "prompt_number": 64
    },
    {
     "cell_type": "code",
     "collapsed": false,
=======
>>>>>>> dfb89b68e83923341ee6a1c47abacaa88e126c4c
     "input": [],
     "language": "python",
     "metadata": {},
     "outputs": []
    }
   ],
   "metadata": {}
  }
 ]
}