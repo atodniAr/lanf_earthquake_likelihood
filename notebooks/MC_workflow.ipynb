{
 "metadata": {
  "name": ""
 },
 "nbformat": 3,
 "nbformat_minor": 0,
 "worksheets": [
  {
   "cells": [
    {
     "cell_type": "markdown",
     "metadata": {},
     "source": [
      "# Streamline the workflow for Monte Carlo simulations of earthquakes on LANFs, using the new eq_stats module "
     ]
    },
    {
     "cell_type": "code",
     "collapsed": false,
     "input": [
      "import sys\n",
      "sys.path.append('../eq_stats/')"
     ],
     "language": "python",
     "metadata": {},
     "outputs": [],
     "prompt_number": 1
    },
    {
     "cell_type": "code",
     "collapsed": false,
     "input": [
      "import numpy as np\n",
      "import pandas as pd\n",
      "import eq_stats as eqs"
     ],
     "language": "python",
     "metadata": {},
     "outputs": [],
     "prompt_number": 2
    },
    {
     "cell_type": "code",
     "collapsed": false,
     "input": [
      "reload(eqs)"
     ],
     "language": "python",
     "metadata": {},
     "outputs": [
      {
       "metadata": {},
       "output_type": "pyout",
       "prompt_number": 39,
       "text": [
        "<module 'eq_stats' from '../eq_stats/eq_stats.py'>"
       ]
      }
     ],
     "prompt_number": 39
    },
    {
     "cell_type": "markdown",
     "metadata": {},
     "source": [
      "### workflow for sampling from F(M):\n",
      "\n",
      "- Generate F(M):\n",
      "    - get M_vec (np.linspace(min, max, num))\n",
      "    - get F(M_vec)\n",
      "\n",
      "- Sample from F(M) with inv. transf. sampling:\n",
      "    - make ECDF from F(M)\n",
      "    - Make dict of ECDF\n",
      "    - make inverse ECDF\n",
      "    - get uniform random sample from [0,1)\n",
      "    - apply rand. sample to inv ECDF, get nearest values\n",
      "\n"
     ]
    },
    {
     "cell_type": "markdown",
     "metadata": {},
     "source": [
      "generate F(M)"
     ]
    },
    {
     "cell_type": "code",
     "collapsed": false,
     "input": [
      "M_vec = np.linspace(5, 7.64, num=1000)\n",
      "\n",
      "FM_vec = eqs.F(M_vec)"
     ],
     "language": "python",
     "metadata": {},
     "outputs": [],
     "prompt_number": 5
    },
    {
     "cell_type": "markdown",
     "metadata": {},
     "source": [
      "Sample from F(M)"
     ]
    },
    {
     "cell_type": "code",
     "collapsed": false,
     "input": [
      "# test, then add to eq_stats\n",
      "\n",
      "def sample_from_pdf(vals, counts, num):\n",
      "    inv_ecdf_d = eqs.get_inverse_ecdf_dict(vals, counts)\n",
      "    rand_samp = np.random.rand(num)\n",
      "    pdf_samp = eqs.find_nearest_dict_val(inv_ecdf_d, rand_samp)\n",
      "    \n",
      "    return pdf_samp"
     ],
     "language": "python",
     "metadata": {},
     "outputs": [],
     "prompt_number": 7
    },
    {
     "cell_type": "code",
     "collapsed": false,
     "input": [
      "n_samp = 1e5"
     ],
     "language": "python",
     "metadata": {},
     "outputs": [],
     "prompt_number": 8
    },
    {
     "cell_type": "code",
     "collapsed": false,
     "input": [
      "FM_samp = sample_from_pdf(M_vec, FM_vec, n_samp)"
     ],
     "language": "python",
     "metadata": {},
     "outputs": [],
     "prompt_number": 9
    },
    {
     "cell_type": "markdown",
     "metadata": {},
     "source": [
      "easy breezy."
     ]
    },
    {
     "cell_type": "markdown",
     "metadata": {},
     "source": [
      "### Workflow for assembling fault-specific samples\n",
      "\n",
      "- Import fault 'stats' from dict or dataframe\n",
      "- Sample from dip, Ddot (change name?)\n",
      "- Calculate recurrence interval from each quake given geom, Ddot\n",
      "- "
     ]
    },
    {
     "cell_type": "markdown",
     "metadata": {},
     "source": [
      "#### get fault stats, make dataframe"
     ]
    },
    {
     "cell_type": "code",
     "collapsed": false,
     "input": [
      "f = pd.read_csv('../data/lanf_stats.csv', index_col=0)"
     ],
     "language": "python",
     "metadata": {},
     "outputs": [],
     "prompt_number": 17
    },
    {
     "cell_type": "code",
     "collapsed": false,
     "input": [
      "slr = f.loc['s_lunggar']"
     ],
     "language": "python",
     "metadata": {},
     "outputs": [],
     "prompt_number": 18
    },
    {
     "cell_type": "code",
     "collapsed": false,
     "input": [
      "df_cols = ['M', 'Mo', 'Ddot', 'dip', 'recur_int', 'cum_yrs']"
     ],
     "language": "python",
     "metadata": {},
     "outputs": [],
     "prompt_number": 19
    },
    {
     "cell_type": "code",
     "collapsed": false,
     "input": [
      "slr_mc = pd.DataFrame(index=np.arange(n_samp), columns=df_cols)"
     ],
     "language": "python",
     "metadata": {},
     "outputs": [],
     "prompt_number": 20
    },
    {
     "cell_type": "markdown",
     "metadata": {},
     "source": [
      "#### populate dataframe with ordered randomness"
     ]
    },
    {
     "cell_type": "markdown",
     "metadata": {},
     "source": [
      "get M, Mo"
     ]
    },
    {
     "cell_type": "code",
     "collapsed": false,
     "input": [
      "slr_mc.M = FM_samp\n",
      "\n",
      "slr_mc.Mo = eqs.calc_Mo_from_M(slr_mc.M)"
     ],
     "language": "python",
     "metadata": {},
     "outputs": [],
     "prompt_number": 22
    },
    {
     "cell_type": "markdown",
     "metadata": {},
     "source": [
      "get dip, Ddot, recurrence intervals, cumulative years"
     ]
    },
    {
     "cell_type": "code",
     "collapsed": false,
     "input": [
      "slr_mc.dip = eqs.dip_rand_samp(slr['dip_deg'], slr['dip_err_deg'],\n",
      "                               n_samp)[0]"
     ],
     "language": "python",
     "metadata": {},
     "outputs": [],
     "prompt_number": 25
    },
    {
     "cell_type": "code",
     "collapsed": false,
     "input": [
      "slr_mc.Ddot = eqs.Ddot_rand_samp(slr['slip_rate_mm_a'], slr['sr_err_mm_a'],\n",
      "                                 n_samp)"
     ],
     "language": "python",
     "metadata": {},
     "outputs": [],
     "prompt_number": 26
    },
    {
     "cell_type": "code",
     "collapsed": false,
     "input": [
      "slr_mc.recur_int = eqs.calc_recurrence_interval(Mo=slr_mc.Mo, dip=slr_mc.dip,\n",
      "                                                slip_rate=slr_mc.Ddot,\n",
      "                                                L=slr['L_km'], z=slr['z_km'])\n",
      "                                                            "
     ],
     "language": "python",
     "metadata": {},
     "outputs": [],
     "prompt_number": 29
    },
    {
     "cell_type": "code",
     "collapsed": false,
     "input": [
      "slr_mc.cum_yrs = eqs.calc_cumulative_yrs(slr_mc.recur_int)"
     ],
     "language": "python",
     "metadata": {},
     "outputs": [],
     "prompt_number": 33
    },
    {
     "cell_type": "markdown",
     "metadata": {},
     "source": [
      "Make eq sequence"
     ]
    },
    {
     "cell_type": "code",
     "collapsed": false,
     "input": [
      "eq_time_series = eqs.make_eq_time_series(slr_mc.M, slr_mc.cum_yrs)"
     ],
     "language": "python",
     "metadata": {},
     "outputs": [],
     "prompt_number": 36
    },
    {
     "cell_type": "code",
     "collapsed": false,
     "input": [
      "eqs.get_prob_above_val_in_window(eq_time_series, 6, 40)"
     ],
     "language": "python",
     "metadata": {},
     "outputs": [
      {
       "metadata": {},
       "output_type": "pyout",
       "prompt_number": 40,
       "text": [
        "0.02399704798960237"
       ]
      }
     ],
     "prompt_number": 40
    },
    {
     "cell_type": "code",
     "collapsed": false,
     "input": [],
     "language": "python",
     "metadata": {},
     "outputs": []
    }
   ],
   "metadata": {}
  }
 ]
}