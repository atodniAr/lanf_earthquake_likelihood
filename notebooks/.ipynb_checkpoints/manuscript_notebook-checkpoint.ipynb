{
 "metadata": {
  "name": ""
 },
 "nbformat": 3,
 "nbformat_minor": 0,
 "worksheets": [
  {
   "cells": [
    {
     "cell_type": "markdown",
     "metadata": {},
     "source": [
      "# Statistical constraints on observing low-angle normal fault seismicity\n",
      "\n",
      "## Introduction\n",
      "\n",
      "The recognition of low-angle normal faults, or LANFs, with fault dips <30$^\\circ$ in the geologic record and their hypothesized role in accommodating large-magnitude continental extension [1] has been one of the most important developments in tectonics over the past several decades.\n",
      "However, despite widespread field observations of inactive LANFs[2] and their central role in modern extensional tectonic theory[3], they remain enigmatic and contentious structures. \n",
      "This is for two reasons: because brittle faulting on LANFs is in apparent conflict with standard rock mechanical theory as typically applied to the upper crust [4,5], and because observations of active faulting on LANFs is sparse and at times ambiguous[6,7].\n",
      "A considerable amount of research has been performed to address the former concern, reconciling LANF slip with rock mechanics.\n",
      "The latter issue, the paucity of observations, has inhibited hypothesis testing of LANF fault theory, and has also contributed to a mode of thought where the absence of evidence for LANF activity is taken as evidence of its absence [8].\n",
      "Alternately, the lack of observed seismic slip on a continental LANF may be explained by the rarity of seismicity and the small number of potential active structures.\n",
      "\n",
      "\n",
      "In this work, we choose to directly address the question of whether the lack of observed seismicity may be interpreted as an indication that LANFs may not slip seismically, or an effect of a small sample size of LANFs that show typical seismic behavior.  We do this by calculating the likelihood of observing a moderate to large earthquake on a LANF over different time windows, assuming that all continental LANFs described in the literature are seismically active at low angles and display typical seismic behavior. "
     ]
    },
    {
     "cell_type": "markdown",
     "metadata": {},
     "source": [
      "### Potentially active LANFs\n",
      "\n",
      "Over the past decade or so, many field studies have found evidence for LANF activity in orogens throughout the world. These studies typically find arrays of Quaternary normal fault scarps on the fault traces and/or in the hanging walls of mapped or inferred low-angle detachment faults [e.g, Axen et al., 1999]. Some studies also have bedrock thermochronology data from the exhumed footwalls of the detachments that is suggestive of ongoing rapid exhumation [e.g. Sundell et al., 2013], although this data does not preclude a recent cessation of faulting. In some cases, additional evidence for LANF activity comes from geophysical data such as GPS geodesy [Hreinsdottir and Bennett, 2009] and seismic waves [Doser, 1987].\n",
      "\n"
     ]
    },
    {
     "cell_type": "markdown",
     "metadata": {},
     "source": [
      "We have compiled all potentially active LANFs with known subareal fault traces from a thorough review of the literature; there are twenty total.  We have then mapped the approximate fault traces into a GIS file (available at https://github.com/cossatot/LANF_gis), with metadata such as slip rate and source."
     ]
    },
    {
     "cell_type": "markdown",
     "metadata": {},
     "source": []
    },
    {
     "cell_type": "markdown",
     "metadata": {},
     "source": []
    },
    {
     "cell_type": "markdown",
     "metadata": {},
     "source": [
      "1. Intro\n",
      "    - LANFs events are rare if they happen\n",
      "    - potentially active LANFs\n",
      "\n",
      "2. Individual fault statistics\n",
      "    1. Methods\n",
      "        - Monte Carlo simulations of earthquake sequences 50k events long\n",
      "        - EQs drawn from GR truncated exponential w/ 15 m max slip\n",
      "        - vary dip, slip rate each iteration, 2000 iterations\n",
      "        - Probabilities in each window calculated by rolling maximum function\n",
      "    2. Results\n",
      "        - Figure for prob. for all faults?\n",
      "    \n",
      "2. Joint probabilities\n",
      "    - Earthquakes assumed to be independent, uncorrelated\n",
      "    \n"
     ]
    },
    {
     "cell_type": "code",
     "collapsed": false,
     "input": [],
     "language": "python",
     "metadata": {},
     "outputs": []
    }
   ],
   "metadata": {}
  }
 ]
}