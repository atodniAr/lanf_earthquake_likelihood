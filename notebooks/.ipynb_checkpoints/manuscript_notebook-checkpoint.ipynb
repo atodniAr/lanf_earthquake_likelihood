{
 "metadata": {
  "name": ""
 },
 "nbformat": 3,
 "nbformat_minor": 0,
 "worksheets": [
  {
   "cells": [
    {
     "cell_type": "markdown",
     "metadata": {},
     "source": [
      "# Statistical constraints on observing low-angle normal fault seismicity\n",
      "\n",
      "## Introduction\n",
      "\n",
      "The recognition of low-angle normal faults, or LANFs, with fault dips <30$^\\circ$ in the geologic record and their hypothesized role in accommodating large-magnitude continental extension [1] has been one of the most important developments in tectonics over the past several decades.\n",
      "However, despite widespread field observations of inactive LANFs[2] and their central role in modern extensional tectonic theory[3], they remain enigmatic and contentious structures. \n",
      "This is for two reasons: because brittle faulting on LANFs is in apparent conflict with standard rock mechanical theory as typically applied to the upper crust [4,5], and because observations of active faulting on LANFs is sparse and at times ambiguous[6,7].\n",
      "A considerable amount of research has been performed to address the former concern, reconciling LANF slip with rock mechanics.\n",
      "The latter issue, the paucity of observations, has inhibited hypothesis testing of LANF fault theory, and has also contributed to a mode of thought where the absence of evidence is taken as evidence of absence [8].\n",
      "Alternately, the lack of observed seismic slip on a continental LANF may be explained by the rarity of seismicity and the small number of potential active structures.\n",
      "In this work, we choose to directly address the question of whether the lack of observed seismicity may be interpreted as an indication that LANFs may not slip seismically, or an effect of a small sample size of LANFs that show typical seismic behavior. "
     ]
    },
    {
     "cell_type": "markdown",
     "metadata": {},
     "source": [
      "Over the past several decades, many field studies found evidence for LANF activity in orogens throughout the world. These studies typically find arrays of Quaternary normal fault scarps on the fault traces and/or in the hanging walls of mapped or inferred low-angle detachment faults [e.g, refs]. Some studies also have bedrock thermochronology data from the exhumed footwalls of the detachments that is suggestive of ongoing rapid exhumation, although this data does not preclude a recent cessation of faulting. In some cases, additional evidence for LANF activity comes from geophysical data such as GPS geodesy [Hreinsdottir et al. 20xx] and seismic waves [Doser 1987]."
     ]
    },
    {
     "cell_type": "markdown",
     "metadata": {},
     "source": [
      "Here, we compile a dataset from continental LANFs inferred to be active, and directly estimate the likelihood of observing an earthquake on them, using constraints on their geometry and slip rates. We therefore assume each LANF is active, and exhibits typical seismic behavior for a continental normal fault.  Because we require accurate information on fault geometry and slip rate, we limit the study to continental, subareal LANFs, and do not consider those at mid-oceanic ridges or in submerged, attenuated continental crust, even though these have been described and may be numerous."
     ]
    },
    {
     "cell_type": "code",
     "collapsed": false,
     "input": [],
     "language": "python",
     "metadata": {},
     "outputs": []
    }
   ],
   "metadata": {}
  }
 ]
}