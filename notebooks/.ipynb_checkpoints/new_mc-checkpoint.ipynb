{
 "metadata": {
  "name": ""
 },
 "nbformat": 3,
 "nbformat_minor": 0,
 "worksheets": [
  {
   "cells": [
    {
     "cell_type": "markdown",
     "metadata": {},
     "source": [
      "# New Monte Carlo workflow for estimating EQ likelihood with uncertainties"
     ]
    },
    {
     "cell_type": "code",
     "collapsed": false,
     "input": [
      "import sys\n",
      "sys.path.append('../eq_stats/')\n",
      "\n",
      "import numpy as np\n",
      "import pandas as pd\n",
      "import eq_stats as eqs"
     ],
     "language": "python",
     "metadata": {},
     "outputs": [],
     "prompt_number": 1
    },
    {
     "cell_type": "code",
     "collapsed": false,
     "input": [
      "f = pd.read_csv('../data/lanf_stats.csv', index_col=0)\n",
      "\n",
      "f"
     ],
     "language": "python",
     "metadata": {},
     "outputs": [
      {
       "html": [
        "<div style=\"max-height:1000px;max-width:1500px;overflow:auto;\">\n",
        "<table border=\"1\" class=\"dataframe\">\n",
        "  <thead>\n",
        "    <tr style=\"text-align: right;\">\n",
        "      <th></th>\n",
        "      <th>L_km</th>\n",
        "      <th>z_km</th>\n",
        "      <th>slip_rate_mm_a</th>\n",
        "      <th>sr_err_mm_a</th>\n",
        "      <th>dip_deg</th>\n",
        "      <th>dip_err_deg</th>\n",
        "    </tr>\n",
        "    <tr>\n",
        "      <th>fault</th>\n",
        "      <th></th>\n",
        "      <th></th>\n",
        "      <th></th>\n",
        "      <th></th>\n",
        "      <th></th>\n",
        "      <th></th>\n",
        "    </tr>\n",
        "  </thead>\n",
        "  <tbody>\n",
        "    <tr>\n",
        "      <th>kongur_shan</th>\n",
        "      <td> 147</td>\n",
        "      <td> 10</td>\n",
        "      <td> 6.5</td>\n",
        "      <td> 2.0</td>\n",
        "      <td> 30</td>\n",
        "      <td> 10.0</td>\n",
        "    </tr>\n",
        "    <tr>\n",
        "      <th>leo_pargil</th>\n",
        "      <td>  56</td>\n",
        "      <td> 10</td>\n",
        "      <td> 1.0</td>\n",
        "      <td> 1.0</td>\n",
        "      <td> 25</td>\n",
        "      <td> 10.0</td>\n",
        "    </tr>\n",
        "    <tr>\n",
        "      <th>gurla_mandhata</th>\n",
        "      <td>  44</td>\n",
        "      <td> 10</td>\n",
        "      <td> 4.5</td>\n",
        "      <td> 2.0</td>\n",
        "      <td> 33</td>\n",
        "      <td> 10.0</td>\n",
        "    </tr>\n",
        "    <tr>\n",
        "      <th>s_lunggar</th>\n",
        "      <td>  20</td>\n",
        "      <td> 10</td>\n",
        "      <td> 2.5</td>\n",
        "      <td> 0.5</td>\n",
        "      <td> 22</td>\n",
        "      <td>  5.0</td>\n",
        "    </tr>\n",
        "    <tr>\n",
        "      <th>n_lunggar</th>\n",
        "      <td>  32</td>\n",
        "      <td> 10</td>\n",
        "      <td> 2.0</td>\n",
        "      <td> 1.0</td>\n",
        "      <td> 25</td>\n",
        "      <td>  5.0</td>\n",
        "    </tr>\n",
        "    <tr>\n",
        "      <th>pqx_qingdu</th>\n",
        "      <td>  15</td>\n",
        "      <td> 10</td>\n",
        "      <td> 1.0</td>\n",
        "      <td> 0.5</td>\n",
        "      <td> 30</td>\n",
        "      <td>  5.0</td>\n",
        "    </tr>\n",
        "    <tr>\n",
        "      <th>pqx_n</th>\n",
        "      <td>  11</td>\n",
        "      <td> 10</td>\n",
        "      <td> 1.0</td>\n",
        "      <td> 0.5</td>\n",
        "      <td> 25</td>\n",
        "      <td>  7.5</td>\n",
        "    </tr>\n",
        "    <tr>\n",
        "      <th>nqtl</th>\n",
        "      <td> 115</td>\n",
        "      <td> 10</td>\n",
        "      <td> 2.5</td>\n",
        "      <td> 1.5</td>\n",
        "      <td> 30</td>\n",
        "      <td>  8.0</td>\n",
        "    </tr>\n",
        "    <tr>\n",
        "      <th>alto_tiberina</th>\n",
        "      <td>  60</td>\n",
        "      <td>  4</td>\n",
        "      <td> 2.4</td>\n",
        "      <td> 0.3</td>\n",
        "      <td> 25</td>\n",
        "      <td>  5.0</td>\n",
        "    </tr>\n",
        "  </tbody>\n",
        "</table>\n",
        "</div>"
       ],
       "metadata": {},
       "output_type": "pyout",
       "prompt_number": 3,
       "text": [
        "                L_km  z_km  slip_rate_mm_a  sr_err_mm_a  dip_deg  dip_err_deg\n",
        "fault                                                                        \n",
        "kongur_shan      147    10             6.5          2.0       30         10.0\n",
        "leo_pargil        56    10             1.0          1.0       25         10.0\n",
        "gurla_mandhata    44    10             4.5          2.0       33         10.0\n",
        "s_lunggar         20    10             2.5          0.5       22          5.0\n",
        "n_lunggar         32    10             2.0          1.0       25          5.0\n",
        "pqx_qingdu        15    10             1.0          0.5       30          5.0\n",
        "pqx_n             11    10             1.0          0.5       25          7.5\n",
        "nqtl             115    10             2.5          1.5       30          8.0\n",
        "alto_tiberina     60     4             2.4          0.3       25          5.0"
       ]
      }
     ],
     "prompt_number": 3
    },
    {
     "cell_type": "code",
     "collapsed": false,
     "input": [
      "M_vec = np.linspace(5, 7.64, num=1000)\n",
      "FM_vec = eqs.F(M_vec)\n",
      "\n",
      "n_samp = 5e4"
     ],
     "language": "python",
     "metadata": {},
     "outputs": [],
     "prompt_number": 51
    },
    {
     "cell_type": "code",
     "collapsed": false,
     "input": [
      "time_window = np.hstack((1, np.arange(5, 105, step=5) ))\n",
      "\n",
      "mag_vals = np.array([5.0, 5.5, 6.0, 6.5, 7.0, 7.5])"
     ],
     "language": "python",
     "metadata": {},
     "outputs": [],
     "prompt_number": 52
    },
    {
     "cell_type": "code",
     "collapsed": false,
     "input": [
      "MC_cols = ['dip', 'slip_rate'] +  [t for t in time_window]"
     ],
     "language": "python",
     "metadata": {},
     "outputs": [],
     "prompt_number": 53
    },
    {
     "cell_type": "code",
     "collapsed": false,
     "input": [],
     "language": "python",
     "metadata": {},
     "outputs": [],
     "prompt_number": 53
    },
    {
     "cell_type": "markdown",
     "metadata": {},
     "source": [
      "## Trial on South Lunggar Detachment"
     ]
    },
    {
     "cell_type": "code",
     "collapsed": false,
     "input": [
      "slr = f.loc['s_lunggar']"
     ],
     "language": "python",
     "metadata": {},
     "outputs": [],
     "prompt_number": 54
    },
    {
     "cell_type": "code",
     "collapsed": false,
     "input": [
      "n_index = 1e3\n",
      "\n",
      "mc_index = np.arange(n_index)"
     ],
     "language": "python",
     "metadata": {},
     "outputs": [],
     "prompt_number": 55
    },
    {
     "cell_type": "code",
     "collapsed": false,
     "input": [
      "slr_5 = pd.DataFrame(index=mc_index, columns=MC_cols) "
     ],
     "language": "python",
     "metadata": {},
     "outputs": [],
     "prompt_number": 56
    },
    {
     "cell_type": "code",
     "collapsed": false,
     "input": [
      "slr_5.dip, prob_frac = eqs.dip_rand_samp(slr['dip_deg'], \n",
      "                                         slr['dip_err_deg'], n_index)\n",
      "\n",
      "slr_5.slip_rate = eqs.Ddot_rand_samp(slr['slip_rate_mm_a'], \n",
      "                                      slr['sr_err_mm_a'], n_index)"
     ],
     "language": "python",
     "metadata": {},
     "outputs": [],
     "prompt_number": 57
    },
    {
     "cell_type": "code",
     "collapsed": false,
     "input": [
      "ss = slr_5.iloc[0]"
     ],
     "language": "python",
     "metadata": {},
     "outputs": [],
     "prompt_number": 59
    },
    {
     "cell_type": "code",
     "collapsed": false,
     "input": [
      "%%timeit\n",
      "M_samp = eqs.sample_from_pdf(M_vec, FM_vec, n_samp)\n",
      "Mo_samp = eqs.calc_Mo_from_M(M_samp)\n",
      "\n",
      "recur_int = eqs.calc_recurrence_interval(Mo=Mo_samp, dip=ss.dip,\n",
      "                                         slip_rate=ss.slip_rate,\n",
      "                                         L=slr['L_km'], z=slr['z_km'])\n",
      "\n",
      "cum_yrs = eqs.calc_cumulative_yrs(recur_int)\n",
      "\n",
      "eq_series = eqs.make_eq_time_series(M_samp, cum_yrs)\n",
      "\n",
      "for t in time_window:\n",
      "    ss[t] = eqs.get_prob_above_val_in_window(eq_series, 5, t) * prob_frac"
     ],
     "language": "python",
     "metadata": {},
     "outputs": [
      {
       "output_type": "stream",
       "stream": "stdout",
       "text": [
        "1 loops, best of 3: 2.43 s per loop\n"
       ]
      }
     ],
     "prompt_number": 60
    },
    {
     "cell_type": "code",
     "collapsed": false,
     "input": [
      "ss"
     ],
     "language": "python",
     "metadata": {},
     "outputs": [
      {
       "metadata": {},
       "output_type": "pyout",
       "prompt_number": 61,
       "text": [
        "dip             18.09678\n",
        "slip_rate       2.746527\n",
        "1            0.008120496\n",
        "5              0.0378066\n",
        "10            0.06036485\n",
        "15            0.07636076\n",
        "20            0.08913901\n",
        "25             0.0999534\n",
        "30             0.1093837\n",
        "35             0.1178354\n",
        "40             0.1254721\n",
        "45             0.1325169\n",
        "50              0.139026\n",
        "55             0.1451058\n",
        "60             0.1508325\n",
        "65             0.1562937\n",
        "70              0.161503\n",
        "75             0.1664638\n",
        "80              0.171216\n",
        "85             0.1757782\n",
        "90             0.1801665\n",
        "95             0.1844012\n",
        "100            0.1884894\n",
        "Name: 0.0, dtype: object"
       ]
      }
     ],
     "prompt_number": 61
    },
    {
     "cell_type": "markdown",
     "metadata": {},
     "source": [
      "### Now do this a bunch.\n",
      "\n",
      "The basic idea is to end up with like 6 DFs per fault, one for each magnitude.  Then they get compiled into the joint probability DFs.  These stay per each magnitude.  Then, they get plotted into lines.\n",
      "\n",
      "At the very end, or maybe sometime in the middle even, it might be possible to make a multi-index DF.  But why worry about it now?  Then again, why not?"
     ]
    },
    {
     "cell_type": "code",
     "collapsed": false,
     "input": [
      "M_samp = eqs.sample_from_pdf(M_vec, FM_vec, n_samp)\n",
      "Mo_samp = eqs.calc_Mo_from_M(M_samp)\n",
      "\n",
      "recur_int = eqs.calc_recurrence_interval(Mo=Mo_samp, dip=ss.dip,\n",
      "                                         slip_rate=ss.slip_rate,\n",
      "                                         L=slr['L_km'], z=slr['z_km'])\n",
      "\n",
      "cum_yrs = eqs.calc_cumulative_yrs(recur_int)\n",
      "\n",
      "eq_series = eqs.make_eq_time_series(M_samp, cum_yrs)\n",
      "\n",
      "for t in time_window:\n",
      "    ss[t] = eqs.get_prob_above_val_in_window(eq_series, 5, t) * prob_frac"
     ],
     "language": "python",
     "metadata": {},
     "outputs": []
    }
   ],
   "metadata": {}
  }
 ]
}